{
 "cells": [
  {
   "attachments": {},
   "cell_type": "markdown",
   "metadata": {},
   "source": [
    "# Data Structure"
   ]
  },
  {
   "attachments": {},
   "cell_type": "markdown",
   "metadata": {},
   "source": [
    "## Data Structure\n",
    "### 개요\n",
    "#### 데이터 구조 `Data Structure`\n",
    "여러 데이터를 효과적으로 사용, 관리하기 위한 구조<br>\n",
    "(str, list, dict 등)"
   ]
  },
  {
   "attachments": {},
   "cell_type": "markdown",
   "metadata": {},
   "source": [
    "#### 자료 구조\n",
    "- 데이터 타입은 별개. 자료구조를 기반으로 파이썬에서 데이터타입으로 구현\n",
    "- 컴퓨터 공학에서는 ‘자료 구조’ 라고 함\n",
    "- 각 데이터의 효율적인 저장, 관리를 위한 구조를 나눠 놓은 것\n",
    "    ![image](https://github.com/ragu6963/TIL/assets/32388270/ec3c4025-1305-4ba1-8f7a-fc355c1fa4e3)\n"
   ]
  },
  {
   "attachments": {},
   "cell_type": "markdown",
   "metadata": {},
   "source": [
    "#### 데이터 구조 활용\n",
    "- 문자열, 리스트, 딕셔너리 등 각 데이터 구조의 <span style='color:red;'>메서드</span>를 호출하여 다양한 기능을 활용하기\n"
   ]
  },
  {
   "attachments": {},
   "cell_type": "markdown",
   "metadata": {},
   "source": [
    "### 메서드 `method`\n",
    "객체에 속한 함수\n",
    "> 객체의 상태를 조작하거나 동작을 수행\n"
   ]
  },
  {
   "attachments": {},
   "cell_type": "markdown",
   "metadata": {},
   "source": [
    "#### 메서드 특징\n",
    "- 메서드는 클래스(class) 내부에 정의되는 함수\n",
    "- 클래스는 파이썬에서 **‘타입을 표현하는 방법’**이며 이미 은연중에 사용해왔음\n",
    "- 예를 들어 help 함수를 통해 str을 호출해보면 class 였다는 것을 확인 가능\n",
    "\n",
    "    ```python\n",
    "    print(help(str))\n",
    "\n",
    "    \"\"\"\n",
    "    Help on class str in module builtins:\n",
    "\n",
    "    class str(object)\n",
    "     |  str(object='') -> str\n",
    "     |  str(bytes_or_buffer[, encoding[, errors]]) -> str\n",
    "     |\n",
    "     |  Create a new string object from the given object. If encoding or\n",
    "     |  errors is specified, then the object must expose a data buffer\n",
    "     |  …\n",
    "    \"\"\"\n",
    "    ```\n",
    "   __는 매직 메서드. 개발자가 직접적으로 관여하는 것은 아니고 특별한 상황에서 자동으로 호출되는 함수  \n",
    "> 클래스는 후반부 OOP 수업에서 자세히 다룸\n",
    " "
   ]
  },
  {
   "attachments": {},
   "cell_type": "markdown",
   "metadata": {},
   "source": [
    "#### 지금 시점에 알아야 할 것\n",
    "**메서드는 어딘가(클래스)에 속해 있는 <span style='color:red;'>함수**</span>이며,<br>\n",
    "각 데이터 타입별로 다양한 기능을 가진 메서드가 존재\n",
    "\n",
    "데이터타입의 객체.메서드"
   ]
  },
  {
   "attachments": {},
   "cell_type": "markdown",
   "metadata": {},
   "source": [
    "#### 메서드 호출 방법\n",
    "> <span style='color:blue;'>데이터 타입 객체</span>.<span style='color:red;'>메서드()</span>\n",
    "```python\n",
    "'hello'.capitalize()\n",
    "```"
   ]
  },
  {
   "attachments": {},
   "cell_type": "markdown",
   "metadata": {},
   "source": [
    "#### 메서드 호출 예시\n",
    "```python\n",
    "# 문자열 메서드 예시\n",
    "print('hello'.capitalize())  # Hello\n",
    "\n",
    "\n",
    "# 리스트 메서드 예시\n",
    "numbers = [1, 2, 3]\n",
    "numbers.append(4)\n",
    "\n",
    "print(numbers)  # [1, 2, 3, 4]\n",
    "```"
   ]
  },
  {
   "attachments": {},
   "cell_type": "markdown",
   "metadata": {},
   "source": [
    "#### 실행 해보기"
   ]
  },
  {
   "cell_type": "code",
   "execution_count": null,
   "metadata": {},
   "outputs": [],
   "source": [
    "# 실행 해보기 1\n",
    "print('hello'.capitalize()) \n",
    "\n",
    "\n",
    "numbers = [1, 2, 3]\n",
    "numbers.append(4)\n",
    "\n",
    "print(numbers)"
   ]
  },
  {
   "attachments": {},
   "cell_type": "markdown",
   "metadata": {},
   "source": [
    "## 시퀀스 데이터 구조"
   ]
  },
  {
   "attachments": {},
   "cell_type": "markdown",
   "metadata": {},
   "source": [
    "### 문자열"
   ]
  },
  {
   "attachments": {},
   "cell_type": "markdown",
   "metadata": {},
   "source": [
    "#### 문자열 조회/탐색 및 검증 메서드\n",
    "~is : 리턴값 True or False\n",
    "|        메서드      \t|                                         설명                                        \t|\n",
    "|:------------------:\t|:-----------------------------------------------------------------------------------:\t|\n",
    "|      s.find(x)     \t|     x의   첫 번째 위치를 반환. 없으면,   -1을 반환                                  \t|\n",
    "|      s.index(x)    \t|     x의   첫 번째 위치를 반환. **없으면,   오류** 발생                                  \t|\n",
    "|     s.isalpha()    \t|     알파벳 문자 여부      *단순 알파벳이 아닌 유니코드 상 Letter (한국어도 포함)    \t|\n",
    "|     s.isupper()    \t|     대문자 여부                                                                     \t|\n",
    "|     s.islower()    \t|     소문자   여부                                                                   \t|\n",
    "|     s.istitle()    \t|     타이틀   형식 여부                                                              \t|"
   ]
  },
  {
   "cell_type": "code",
   "execution_count": null,
   "metadata": {},
   "outputs": [],
   "source": [
    "# 아래 함수를 수정하시오.\n",
    "def count_character(st,ch):\n",
    "    return st.count(ch)\n",
    "    \n",
    "\n",
    "\n",
    "result = count_character(\"Hello, World!\", \"o\")\n",
    "print(result)  # 2\n"
   ]
  },
  {
   "cell_type": "code",
   "execution_count": 3,
   "metadata": {},
   "outputs": [
    {
     "name": "stdout",
     "output_type": "stream",
     "text": [
      "!dlroW ,olleH\n"
     ]
    }
   ],
   "source": [
    "def reverse_string(s):\n",
    "    return ''.join(reversed(s))\n",
    "\n",
    "\n",
    "result = reverse_string(\"Hello, World!\")\n",
    "print(result)  # !dlroW ,olleH"
   ]
  },
  {
   "cell_type": "markdown",
   "metadata": {},
   "source": [
    "# 아래 함수를 수정하시오.\n",
    "\n"
   ]
  },
  {
   "attachments": {},
   "cell_type": "markdown",
   "metadata": {},
   "source": [
    "##### .index(x)\n",
    "- x의 **첫 번째 위치**를 반환. 없으면, 오류 발생\n",
    "    \n",
    "    ```python\n",
    "    print('banana'.index('a'))  # 1\n",
    "\n",
    "    print('banana'.index('z'))  # ValueError: substring not found\n",
    "    ```"
   ]
  },
  {
   "attachments": {},
   "cell_type": "markdown",
   "metadata": {},
   "source": [
    "##### .isupper(x) / .islower(x)\n",
    "- 문자열이 모두 대문자/소문자로 이루어져 있는지 확인\n",
    "\n",
    "    ```python\n",
    "    string1 = 'HELLO'\n",
    "    string2 = 'Hello'\n",
    "    print(string1.isupper()) # True\n",
    "    print(string2.isupper()) # False\n",
    "    print(string1.islower()) # False\n",
    "    print(string2.islower()) # False\n",
    "    ```"
   ]
  },
  {
   "attachments": {},
   "cell_type": "markdown",
   "metadata": {},
   "source": [
    "##### .isalpha(x)\n",
    "- 문자열이 알파벳으로만 이루어져 있는지 확인\n",
    "    ```python\n",
    "    string1 = 'Hello'\n",
    "    string2 = '123'\n",
    "    print(string1.isalpha()) # True\n",
    "    print(string2.isalpha()) # False\n",
    "    ```"
   ]
  },
  {
   "attachments": {},
   "cell_type": "markdown",
   "metadata": {},
   "source": [
    "##### .find(x)\n",
    "- x의 첫 번째 위치를 반환. 없으면, -1을 반환\n",
    "    \n",
    "    ```python\n",
    "    print('banana'.find('a')) # 1\n",
    "\n",
    "    print('banana'.find('z')) # -1\n",
    "    ```"
   ]
  },
  {
   "attachments": {},
   "cell_type": "markdown",
   "metadata": {},
   "source": [
    "##### 실행 해보기"
   ]
  },
  {
   "cell_type": "code",
   "execution_count": null,
   "metadata": {},
   "outputs": [],
   "source": [
    "# 실행 해보기 1\n",
    "print('banana'.index('a')) \n",
    "\n",
    "print('banana'.index('z')) "
   ]
  },
  {
   "cell_type": "code",
   "execution_count": 1,
   "metadata": {},
   "outputs": [
    {
     "name": "stdout",
     "output_type": "stream",
     "text": [
      "True\n",
      "False\n",
      "False\n",
      "False\n"
     ]
    }
   ],
   "source": [
    "# 실행 해보기 2\n",
    "string1 = 'HELLO'\n",
    "string2 = 'Hello'\n",
    "print(string1.isupper())\n",
    "print(string2.isupper())\n",
    "print(string1.islower())\n",
    "print(string2.islower())"
   ]
  },
  {
   "cell_type": "code",
   "execution_count": null,
   "metadata": {},
   "outputs": [],
   "source": [
    "# 실행 해보기 3\n",
    "string1 = 'Hello'\n",
    "string2 = '123'\n",
    "print(string1.isalpha())\n",
    "print(string2.isalpha())"
   ]
  },
  {
   "cell_type": "code",
   "execution_count": null,
   "metadata": {},
   "outputs": [],
   "source": [
    "# 실행 해보기 4\n",
    "print('banana'.find('a'))\n",
    "print('banana'.find('z'))"
   ]
  },
  {
   "attachments": {},
   "cell_type": "markdown",
   "metadata": {},
   "source": [
    "#### 문자열 조작 메서드 (**새 문자열 반환**)\n",
    "문자열은 원본을 변경하지 못하기때문에\n",
    "|                  메서드                 \t|                                              설명                                            \t|\n",
    "|:---------------------------------------:\t|:--------------------------------------------------------------------------------------------:\t|\n",
    "|       s.replace(old,   new[,count])     \t|     바꿀 대상 글자를 새로운 글자로 바꿔서 반환[,count] 선택인자(선택적으로 넣을 수 있다). 언어간 공통적인 선택인자 표기법_배커스 나우르 표기법. 파이썬은 EBNF(확장된 배 나 표)와 PEG의 혼합. 인자를 대괄호로 감싸면 선택인자. 문법이 아닌 표기법                                               \t|\n",
    "|             s.strip([chars])            \t|     공백이나 특정 문자를 제거                                                                \t|\n",
    "|     s.split(sep=None,   maxsplit=-1)    \t|     공백이나 특정 문자를 기준으로 분리                                                       \t|\n",
    "|       'separator'.join(iterable)      \t|     구분자로 iterable을   합침                                                               \t|\n",
    "|              s.capitalize()             \t|     가장   첫 번째   글자를   대문자로   변경                                                \t|\n",
    "|                 s.title()               \t|     문자열 내 띄어쓰기 기준으로 각 단어의 첫 글자는 대문자로,      나머지는 소문자로 변환    \t|\n",
    "|                 s.upper()               \t|     모두   대문자로 변경                                                                     \t|\n",
    "|                 s.lower()               \t|     모두   소문자로 변경                                                                     \t|\n",
    "|               s.swapcase()              \t|     대↔소문자 서로 변경                                                                      \t|"
   ]
  },
  {
   "attachments": {},
   "cell_type": "markdown",
   "metadata": {},
   "source": [
    "##### .replace(old, new[,count])\n",
    "- 바꿀 대상 글자를 새로운 글자로 바꿔서 반환\n",
    "\n",
    "    ```python\n",
    "    text = 'Hello, world!'\n",
    "    new_text = text.replace('world', 'Python')\n",
    "    print(new_text) # Hello, Python!\n",
    "    ```"
   ]
  },
  {
   "cell_type": "code",
   "execution_count": null,
   "metadata": {},
   "outputs": [],
   "source": [
    "#text를 출력하면?"
   ]
  },
  {
   "attachments": {},
   "cell_type": "markdown",
   "metadata": {},
   "source": [
    "##### .strip([chars])\n",
    "- 문자열의 시작과 끝에 있는 공백 혹은 지정한 문자를 제거\n",
    "\n",
    "    ```python\n",
    "    text = '   Hello, world!   '\n",
    "    new_text = text.strip()\n",
    "    print(new_text) # 'Hello, world!'\n",
    "    ```"
   ]
  },
  {
   "attachments": {},
   "cell_type": "markdown",
   "metadata": {},
   "source": [
    "##### .split(sep=None, maxsplit=-1) 기본인자\n",
    "- 지정한 문자를 구분자로 문자열을 분리하여 문자열의 리스트로 반환\n",
    "\n",
    "    ```py\n",
    "    text = 'Hello, world!'\n",
    "    words = text.split(',')\n",
    "    print(words) # ['Hello', ' world!']\n",
    "    ```"
   ]
  },
  {
   "attachments": {},
   "cell_type": "markdown",
   "metadata": {},
   "source": [
    "##### ‘separator’.join([iterable])\n",
    "- iterable 요소들을 원래의 문자열을 구분자로 이용하여  하나의 문자열로 연결\n",
    "앞에 구분자가 나옴. split하고 반대.\n",
    "\n",
    "    ```py\n",
    "    words = ['Hello', 'world!']\n",
    "    text = '-'.join(words)\n",
    "    print(text) # 'Hello-world!'\n",
    "    ```"
   ]
  },
  {
   "attachments": {},
   "cell_type": "markdown",
   "metadata": {},
   "source": [
    "##### 기타\n",
    "```python\n",
    "text = 'heLLo, woRld!'\n",
    "new_text1 = text.capitalize()\n",
    "new_text2 = text.title() #공백기준\n",
    "new_text3 = text.upper()\n",
    "new_text4 = text.swapcase()#반대로 교체\n",
    "\n",
    "print(new_text1) # Hello, world!\n",
    "print(new_text2) # Hello, World!\n",
    "print(new_text3) # HELLO, WORLD!\n",
    "print(new_text4) # HEllO, WOrLD!\n",
    "```"
   ]
  },
  {
   "attachments": {},
   "cell_type": "markdown",
   "metadata": {},
   "source": [
    "##### 메서드 이어서 사용하기\n",
    "```python\n",
    "text = 'heLLo, woRld!'\n",
    "\n",
    "new_text = text.swapcase().replace('l', 'z')\n",
    "\n",
    "print(new_text) # HEzzO, WOrLD!\n",
    "```"
   ]
  },
  {
   "cell_type": "markdown",
   "metadata": {},
   "source": [
    "앞쪽 메서드가 반환값이 없는  None이라면 error"
   ]
  },
  {
   "attachments": {},
   "cell_type": "markdown",
   "metadata": {},
   "source": [
    "##### 실행 해보기"
   ]
  },
  {
   "cell_type": "code",
   "execution_count": null,
   "metadata": {},
   "outputs": [],
   "source": [
    "# 실행 해보기 1\n",
    "text = 'Hello, world!'\n",
    "new_text = text.replace('world', 'Python')\n",
    "print(new_text)"
   ]
  },
  {
   "cell_type": "code",
   "execution_count": null,
   "metadata": {},
   "outputs": [],
   "source": [
    "# 실행 해보기 2\n",
    "text = '   Hello, world!   '\n",
    "new_text = text.strip()\n",
    "print(new_text)"
   ]
  },
  {
   "cell_type": "code",
   "execution_count": null,
   "metadata": {},
   "outputs": [],
   "source": [
    "# 실행 해보기 3\n",
    "text = 'Hello, world!'\n",
    "words = text.split(',')\n",
    "print(words)"
   ]
  },
  {
   "cell_type": "code",
   "execution_count": null,
   "metadata": {},
   "outputs": [],
   "source": [
    "# 실행 해보기 4\n",
    "words = ['Hello', 'world!']\n",
    "text = '-'.join(words)\n",
    "print(text)"
   ]
  },
  {
   "cell_type": "code",
   "execution_count": null,
   "metadata": {},
   "outputs": [],
   "source": [
    "# 실행 해보기 5\n",
    "text = 'heLLo, woRld!'\n",
    "new_text1 = text.capitalize()\n",
    "new_text2 = text.title()\n",
    "new_text3 = text.upper()\n",
    "new_text4 = text.swapcase()\n",
    "\n",
    "print(new_text1)\n",
    "print(new_text2)\n",
    "print(new_text3)\n",
    "print(new_text4)"
   ]
  },
  {
   "cell_type": "code",
   "execution_count": null,
   "metadata": {},
   "outputs": [],
   "source": [
    "# python_ws_5_4.py\n",
    "\n",
    "def capitalize_words(text):\n",
    "    inx = 0\n",
    "    text = text.capitalize()\n",
    "    for i in text:\n",
    "        if i == \" \":\n",
    "            text = text[:inx+1] + text[inx+1:].capitalize()\n",
    "        inx += 1   \n",
    "    return text\n",
    "     \n",
    "    \n",
    "    \n",
    "\n",
    "result = capitalize_words(\"hello, world!\")\n",
    "print(result)\n"
   ]
  },
  {
   "cell_type": "code",
   "execution_count": null,
   "metadata": {},
   "outputs": [],
   "source": [
    "# 실행 해보기 6\n",
    "text = 'heLLo, woRld!'\n",
    "\n",
    "new_text = text.swapcase().replace('l', 'z')\n",
    "\n",
    "print(new_text)"
   ]
  },
  {
   "attachments": {},
   "cell_type": "markdown",
   "metadata": {},
   "source": [
    "### 리스트\n",
    "가변데이터타입이기때문에 원본 수정"
   ]
  },
  {
   "attachments": {},
   "cell_type": "markdown",
   "metadata": {},
   "source": [
    "#### 리스트 값 추가 및 삭제 메서드\n",
    "|          메서드         \t|                                                   설명                                                  \t|\n",
    "|:-----------------------:\t|:-------------------------------------------------------------------------------------------------------:\t|\n",
    "|        L.append(x)      \t|     리스트   마지막에 항목 x를   추가                                                                   \t|\n",
    "|        L.extend(m)      \t|     Iterable m의   모든 항목들을 리스트 끝에 추가 **(+=과   같은 기능)**                                    \t|\n",
    "|     L.insert(i,   x)    \t|     리스트   인덱스 i에 항목 x를 삽입                                                                   \t|\n",
    "|        L.remove(x)      \t|     리스트   가장 왼쪽에 있는 항목(첫 번째)   x를   제거     항목이 존재하지 않을 경우,   ValueError    \t|\n",
    "|          L.pop()        \t|     리스트   가장 오른쪽에 있는 항목(마지막)을   반환 후 제거                                           \t|\n",
    "|         L.pop(i)        \t|     리스트의 인덱스 i에   있는 항목을 반환 후 제거                                                      \t|\n",
    "|         L.clear()       \t|     리스트의 모든 항목 삭제                                                                             \t|"
   ]
  },
  {
   "attachments": {},
   "cell_type": "markdown",
   "metadata": {},
   "source": [
    "##### .append(x)\n",
    "- 리스트 마지막에 항목 x를 추가. 리스트를 넣으면 하나의 요소로 들어감\n",
    "\n",
    "    ```python\n",
    "    my_list = [1, 2, 3]\n",
    "    my_list.append(4)\n",
    "    print(my_list) # [1, 2, 3, 4]\n",
    "    ```"
   ]
  },
  {
   "attachments": {},
   "cell_type": "markdown",
   "metadata": {},
   "source": [
    "##### .extend(iterable)\n",
    "- 리스트에 다른 **반복 가능한 객체의 모든 항목을 추가**\n",
    "    \n",
    "    ```py\n",
    "    my_list = [1, 2, 3]\n",
    "    my_list.extend([4, 5, 6])\n",
    "    print(my_list) # [1, 2, 3, 4, 5, 6]\n",
    "    ```"
   ]
  },
  {
   "cell_type": "code",
   "execution_count": null,
   "metadata": {},
   "outputs": [],
   "source": [
    "# 아래 함수를 수정하시오.\n",
    "def even_elements(list):\n",
    "    index = 0\n",
    "    first_len = len(list)\n",
    "    for i in range(first_len):\n",
    "        if list[index] % 2 == 0:\n",
    "            list.extend([list[index]])\n",
    "            \n",
    "        \n",
    "        list.pop(index)\n",
    "            \n",
    "    return list\n",
    "\n",
    "\n",
    "my_list = [1, 2, 3, 4, 5, 6, 7, 8, 9, 10]\n",
    "result = even_elements(my_list)\n",
    "print(result)"
   ]
  },
  {
   "cell_type": "code",
   "execution_count": 5,
   "metadata": {},
   "outputs": [
    {
     "name": "stdout",
     "output_type": "stream",
     "text": [
      "['코', '딩', ' ', '공', '부', '는', 'ㄴ', ' ', '1', '일', 'ㄹ', ' ', '1', '커', 'ㅓ', '밋', 'ㅅ', ' ', '@', '@', '@', '#', '^', '(', ')', '#', '_', '+', '!', '&', '~', ':', '\"']\n",
      "['코', '딩', ' ', '공', '부', '는', ' ', '1', '일', ' ', '1', '커', '밋', ' ']\n",
      "코딩 공부는 1일 1커밋 \n"
     ]
    }
   ],
   "source": [
    "\n",
    "\n",
    "\n",
    "original_word = '코딩 공부는ㄴ 1일ㄹ 1커ㅓ밋ㅅ @@@#^()#_+!&~:\"'\n",
    "word = '1ㄴ2ㄹ3ㅓ4ㅅ5'\n",
    "arr = []\n",
    "arr.extend(original_word)\n",
    "print(arr)\n",
    "\n",
    "def restructure_word(word, arr):\n",
    "    for ch in word:\n",
    "        if ch.isdecimal():\n",
    "            for n in range(int(ch)):\n",
    "                arr.pop()\n",
    "        else:\n",
    "            arr.remove(ch)\n",
    "\n",
    "    return arr\n",
    "        \n",
    "            \n",
    "        \n",
    "result = restructure_word(word, arr)\n",
    "print(result)\n",
    "print(''.join(result))\n"
   ]
  },
  {
   "attachments": {},
   "cell_type": "markdown",
   "metadata": {},
   "source": [
    "##### .insert(i, x)\n",
    "- 리스트의 지정한 인덱스 I 위치에 항목 x를 삽입\n",
    "해당 인덱스에 값 삽입 후 그 앞의 값 제외한 값들 인덱스 하나씩 +    \n",
    "    ```python\n",
    "    my_list = [1, 2, 3]\n",
    "    my_list.insert(1, 5)\n",
    "    print(my_list) # [1, 5, 2, 3]\n",
    "    ```"
   ]
  },
  {
   "attachments": {},
   "cell_type": "markdown",
   "metadata": {},
   "source": [
    "##### .remove(x)\n",
    "- 리스트에서 **첫 번째로 일치하는** 항목을 삭제\n",
    "    \n",
    "    ```python\n",
    "    my_list = [1, 2, 3]\n",
    "    my_list.remove(2)\n",
    "    print(my_list)  # [1, 3]\n",
    "    ```"
   ]
  },
  {
   "attachments": {},
   "cell_type": "markdown",
   "metadata": {},
   "source": [
    "##### .pop(i)\n",
    "- 리스트에서 지정한 인덱스의 항목을 제거하고 <span style='color:red;'>반환(출력x)</span><br>\n",
    "작성하지 않을 경우 마지막 항목을 제거 \n",
    "\n",
    "    ```py\n",
    "    my_list = [1, 2, 3, 4, 5]\n",
    "    \n",
    "    item1 = my_list.pop()\n",
    "    item2 = my_list.pop(0)\n",
    "    \n",
    "    print(item1) # 5\n",
    "    print(item2) # 1\n",
    "    print(my_list) # [2, 3, 4]\n",
    "    ```"
   ]
  },
  {
   "attachments": {},
   "cell_type": "markdown",
   "metadata": {},
   "source": [
    "##### .clear()\n",
    "- 리스트의 모든 항목(내용물)을 삭제, 빈 리스트로 만든다\n",
    "\n",
    "    ```py\n",
    "    my_list = [1, 2, 3]\n",
    "    my_list.clear()\n",
    "    print(my_list) # []\n",
    "    ```"
   ]
  },
  {
   "attachments": {},
   "cell_type": "markdown",
   "metadata": {},
   "source": [
    "##### 실행 해보기"
   ]
  },
  {
   "cell_type": "code",
   "execution_count": null,
   "metadata": {},
   "outputs": [],
   "source": [
    "# 실행 해보기 1\n",
    "my_list = [1, 2, 3]\n",
    "my_list.append(4)\n",
    "print(my_list)"
   ]
  },
  {
   "cell_type": "code",
   "execution_count": null,
   "metadata": {},
   "outputs": [],
   "source": [
    "# 실행 해보기 2\n",
    "my_list = [1, 2, 3]\n",
    "my_list.extend([4, 5, 6])\n",
    "print(my_list)"
   ]
  },
  {
   "cell_type": "code",
   "execution_count": null,
   "metadata": {},
   "outputs": [],
   "source": [
    "# 실행 해보기 3\n",
    "my_list = [1, 2, 3]\n",
    "my_list.insert(1, 5)\n",
    "print(my_list)"
   ]
  },
  {
   "cell_type": "code",
   "execution_count": null,
   "metadata": {},
   "outputs": [],
   "source": [
    "# 실행 해보기 4\n",
    "my_list = [1, 2, 3]\n",
    "my_list.remove(2)\n",
    "print(my_list)"
   ]
  },
  {
   "cell_type": "code",
   "execution_count": null,
   "metadata": {},
   "outputs": [],
   "source": [
    "# 실행 해보기 5\n",
    "my_list = [1, 2, 3, 4, 5]\n",
    "    \n",
    "item1 = my_list.pop()\n",
    "item2 = my_list.pop(0)\n",
    "    \n",
    "print(item1)\n",
    "print(item2)\n",
    "print(my_list)"
   ]
  },
  {
   "cell_type": "code",
   "execution_count": null,
   "metadata": {},
   "outputs": [],
   "source": [
    "# 실행 해보기 6\n",
    "my_list = [1, 2, 3]\n",
    "my_list.clear()\n",
    "print(my_list) "
   ]
  },
  {
   "cell_type": "markdown",
   "metadata": {},
   "source": [
    "#### 리스트 탐색 및 정렬 메서드\n",
    "|               문법              \t|                                   설명                                 \t|\n",
    "|:-------------------------------:\t|:----------------------------------------------------------------------:\t|\n",
    "|     L.index(x,   start, end)    \t|     리스트에   있는 항목 중 가장 왼쪽에 있는 항목 x의 인덱스를 반환. 검색을 통해. 검색 구간도 설정 가능    \t|\n",
    "|            L.reverse()          \t|     리스트의 순서를 역순으로 변경 (정렬 X)|\n",
    "|             L.sort()            \t|     리스트를 정렬 (매개변수   이용가능)                                \t|\n",
    "|            L.count(x)           \t|     리스트에서 특정 항목   x의 개수를 반환.                                \t|"
   ]
  },
  {
   "attachments": {},
   "cell_type": "markdown",
   "metadata": {},
   "source": [
    "##### .index(x)\n",
    "- 리스트에서 첫 번째로 일치하는 항목의 인덱스를 **반환**\n",
    "    \n",
    "    ```python\n",
    "    my_list = [1, 2, 3]\n",
    "    index = my_list.index(2)\n",
    "    print(index)  # 1\n",
    "    ```"
   ]
  },
  {
   "attachments": {},
   "cell_type": "markdown",
   "metadata": {},
   "source": [
    "##### .count(x)\n",
    "- 리스트에서 항목 x가 등장하는 횟수를 **반환**\n",
    "\n",
    "    ```py\n",
    "    my_list = [1, 2, 2, 3, 3, 3]\n",
    "    count = my_list.count(3)\n",
    "    print(count)  # 3\n",
    "    ```"
   ]
  },
  {
   "attachments": {},
   "cell_type": "markdown",
   "metadata": {},
   "source": [
    "##### .sort()\n",
    "- **원본 리스트를 오름차순으로 정렬**\n",
    "-  ->print 시 None\n",
    "    ```python\n",
    "    my_list = [3, 2, 1]\n",
    "    my_list.sort()\n",
    "    print(my_list)  # [1, 2, 3]\n",
    "\n",
    "    # 내림차순\n",
    "    my_list.sort(reverse=True)\n",
    "    print(my_list)  # [3, 2, 1]\n",
    "    ```"
   ]
  },
  {
   "cell_type": "markdown",
   "metadata": {},
   "source": [
    "sorted_list = my_list.sort()\n",
    "print(sorted_list)\n",
    "는 None\n",
    "\n",
    "my_list.sort()\n",
    "sorted_list = my_list\n",
    "print(sorted_list)\n"
   ]
  },
  {
   "attachments": {},
   "cell_type": "markdown",
   "metadata": {},
   "source": [
    "##### .reverse()\n",
    "- 리스트의 순서를 역순으로 변경 **(정렬 X),반환값 x**\n",
    "\n",
    "    ```py\n",
    "    my_list = [1, 3, 2, 8, 1, 9]\n",
    "    my_list.reverse()\n",
    "    print(my_list)  # [9, 1, 8, 2, 3, 1]\n",
    "    ```\n"
   ]
  },
  {
   "attachments": {},
   "cell_type": "markdown",
   "metadata": {},
   "source": [
    "##### 실행 해보기"
   ]
  },
  {
   "cell_type": "code",
   "execution_count": null,
   "metadata": {},
   "outputs": [],
   "source": [
    "# 실행 해보기 1\n",
    "my_list = [1, 2, 3]\n",
    "index = my_list.index(2)\n",
    "print(index) "
   ]
  },
  {
   "cell_type": "code",
   "execution_count": null,
   "metadata": {},
   "outputs": [],
   "source": [
    "# 실행 해보기 2\n",
    "my_list = [1, 2, 2, 3, 3, 3]\n",
    "count = my_list.count(3)\n",
    "print(count)"
   ]
  },
  {
   "cell_type": "code",
   "execution_count": null,
   "metadata": {},
   "outputs": [],
   "source": [
    "# 실행 해보기 3\n",
    "my_list = [3, 2, 1]\n",
    "my_list.sort()\n",
    "print(my_list) \n",
    "\n",
    "# 내림차순\n",
    "my_list.sort(reverse=True)\n",
    "print(my_list) "
   ]
  },
  {
   "cell_type": "code",
   "execution_count": null,
   "metadata": {},
   "outputs": [],
   "source": [
    "# 실행 해보기 4\n",
    "my_list = [1, 3, 2, 8, 1, 9]\n",
    "my_list.reverse()\n",
    "print(my_list) "
   ]
  },
  {
   "cell_type": "markdown",
   "metadata": {},
   "source": [
    "## 데이터 타입과 복사.\n",
    "  - 데이터 타입에 따라 복사가 달라짐\n",
    "  - 변경 가능한 데이터 타입과 변경 불가능한 데이터 타입을 다르게 다룸\n",
    "\n",
    "'''python\n",
    "  a = [1,2,3,4]\n",
    "  b = a\n",
    "  b[0] = 100\n",
    "\n",
    "  print(a)\n",
    "  print(b)\n",
    "'''\n",
    "[100,2,3,4]\n",
    "[100,2,3,4]\n",
    "\n",
    "같은 주소를 참조.\n",
    "불변도 새로운 값의 주소를 참조. 가변이라고 하지만 가변의 주소값은 불변. \n",
    "결국 같은 내용?\n",
    "\n",
    "### 복사 유형\n",
    "  - 할당\n",
    "    - 주소를 참조. 해당 객체에 대한 객체 참조를 복사\n",
    "  - 얕은 복사\n",
    "    '''python\n",
    "    a = [1,2,3]\n",
    "    b = a[:] #슬라이싱은 자른 새로운 리스트를 반환\n",
    "    '''\n",
    "    할당과 달리 서로 다른 리스트 주소. 하지만 이중리스트의 경우에는 같은 인덱스 주소를 가지기 때문에 값 변경 시 영향\n",
    "  - 깊은 복사\n",
    "    '''python\n",
    "    import copy\n",
    "\n",
    "    origin_list = [1,2,[1,2]]\n",
    "    deep_copy_list = copy.deepcopy(origin_list)\n",
    "\n",
    "    deep_copy_list[2][0] = 999\n",
    "    print(origin_list)\n",
    "    '''\n",
    "    내부에 중첩된 모든 객체까지 새로운 주소 가짐\n",
    "    \n",
    "### 문자열에 포함된 문자들의 유형을 판별하는 메서드\n",
    "  isdecimal()\n",
    "  isdigit()\n",
    "  isnumeric()\n",
    "    "
   ]
  },
  {
   "cell_type": "markdown",
   "metadata": {},
   "source": [
    "함수 공부 시 input,output, 에러발생상황 위주로 학습"
   ]
  },
  {
   "attachments": {},
   "cell_type": "markdown",
   "metadata": {},
   "source": [
    "## 비시퀀스 데이터 구조"
   ]
  },
  {
   "attachments": {},
   "cell_type": "markdown",
   "metadata": {},
   "source": [
    "### 세트 `set`\n",
    "고유한 항목들의 정렬되지 않은 컬렉션"
   ]
  },
  {
   "cell_type": "code",
   "execution_count": 4,
   "metadata": {},
   "outputs": [
    {
     "name": "stdout",
     "output_type": "stream",
     "text": [
      "[1, 2, 3, 4, 5]\n"
     ]
    }
   ],
   "source": [
    "# 아래 함수를 수정하시오.\n",
    "def remove_duplicates(lst):\n",
    "    tem_set = set(lst)\n",
    "    new_lst = list(tem_set)\n",
    "    return sorted(new_lst)\n",
    "\n",
    "\n",
    "result = remove_duplicates([1, 2, 2, 3, 4, 4, 5])\n",
    "print(result)\n"
   ]
  },
  {
   "attachments": {},
   "cell_type": "markdown",
   "metadata": {},
   "source": [
    "#### 세트 메서드\n",
    "|           메서드          \t|                                설명                               \t|\n",
    "|:-------------------------:\t|:-----------------------------------------------------------------:\t|\n",
    "|          s.add(x)         \t|     세트 s에 항목   x를 추가. 이미   x가 있다면 변화 없음         \t|\n",
    "|          s.clear()        \t|     세트 s의   모든 항목을   제거                                 \t|\n",
    "|         s.remove(x)       \t|     세트 s에서   항목 x를 제거. 항목   x가 없을 경우 Key error    \t|\n",
    "|           s.pop()         \t|     세트 s에서   랜덤하게 항목을 반환하고,   해당 항목을 제거     \t|\n",
    "|        s.discard(x)       \t|     세트 s에서   항목 x를 제거                                    \t|\n",
    "|     s.update(iterable)    \t|     세트 s에   다른 iterable 요소를   추가                        \t|"
   ]
  },
  {
   "cell_type": "code",
   "execution_count": null,
   "metadata": {},
   "outputs": [],
   "source": [
    "my_set = {'가', '나', (0, 0)}\n",
    "my_dict = {\n",
    "        '가': 1, \n",
    "        (0, 0): '튜플도 키값으로 사용가능' #순회 가능 유의\n",
    "    }\n",
    "# 아래에 코드를 작성하시오.\n",
    "for i in my_set:\n",
    "    if i in list(my_dict.keys()):\n",
    "        print(my_dict[i])\n",
    "    else:\n",
    "        print(None)\n",
    "print(my_dict)\n",
    "var = '변수로도 키 설정 가능?'\n",
    "my_dict[var] = '변수로도 키 설정 가능'\n",
    "\n",
    "for i in my_set:\n",
    "    if i in list(my_dict.keys()):\n",
    "        print(my_dict[i])\n",
    "    else:\n",
    "        print(None)\n",
    "print(my_dict)"
   ]
  },
  {
   "cell_type": "code",
   "execution_count": null,
   "metadata": {},
   "outputs": [],
   "source": [
    "# my_set = {} #-> 딕셔너리\n",
    "# my_set = set() #요소 들어가면 상관없음\n",
    "my_set = {'a','b','c','1','2','3'}\n",
    "print(my_set) #set 순서가 존재하지 않음.print할 때마다 순서 달라짐\n",
    "\n",
    "my_set.add(4)\n",
    "print(my_set)\n",
    "\n",
    "my_set.add(4)\n",
    "print(my_set) #중복 x\n",
    "\n",
    "my_set.remove('a')\n",
    "print(my_set)\n",
    "\n",
    "# my_set.remove('2')\n",
    "# print(my_set) #KeyError\n",
    "\n",
    "element = my_set.pop() # '임의의 요소'인데 확률의 차이가 있는듯. 문자열과 정수..\n",
    "print(element)\n",
    "\n",
    "#update(iterable) - extend\n",
    "my_set.update[1,4,5]\n",
    "print(my_set)\n",
    "\n",
    "my_set.discard('z') # remove와 달리 에러 없음. 반환값도 없음\n",
    "print(my_set)\n",
    "\n",
    "\n",
    "\n",
    "# my_set.clear()\n",
    "# print(my_set)#'set()' 가 출력"
   ]
  },
  {
   "cell_type": "markdown",
   "metadata": {},
   "source": [
    "##### .add(x)\n",
    "- 세트에 x를 추가 \n",
    "\n",
    "    ```python\n",
    "    my_set = {'a', 'b', 'c', 1, 2, 3}\n",
    "\n",
    "    my_set.add(4)\n",
    "    print(my_set)  # {1, 'b', 3, 2, 'c', 'd', 'a’}\n",
    "    \n",
    "    my_set.add(4)\n",
    "    print(my_set)  # {1, 'b', 3, 2, 'c', 'd', 'a’}\n",
    "    ```"
   ]
  },
  {
   "attachments": {},
   "cell_type": "markdown",
   "metadata": {},
   "source": [
    "##### .clear()\n",
    "- 세트의 모든 항목을 제거\n",
    "\n",
    "    ```py\n",
    "    my_set = {'a', 'b', 'c', 1, 2, 3}\n",
    "    \n",
    "    my_set.clear()\n",
    "    print(my_set)  # set()\n",
    "    ```"
   ]
  },
  {
   "cell_type": "markdown",
   "metadata": {},
   "source": [
    "##### .remove(x)\n",
    "- 세트에서 항목 x를 제거\n",
    "\n",
    "    ```python\n",
    "    my_set = {'a', 'b', 'c', 1, 2, 3}\n",
    "    \n",
    "    my_set.remove(2)\n",
    "    print(my_set)  # {'b', 1, 3, 'c', 'a'}\n",
    "    \n",
    "    my_set.remove(10)\n",
    "    print(my_set)  # KeyError\n",
    "    ```"
   ]
  },
  {
   "cell_type": "markdown",
   "metadata": {},
   "source": [
    "##### .discard()\n",
    "- 세트 s에서 항목 x를 제거. remove와 달리 에러 없음\n",
    "\n",
    "    ```python\n",
    "    my_set = {1, 2, 3}\n",
    "    \n",
    "    my_set.discard(2)\n",
    "    print(my_set)  # {1, 3, 'a', 'c', 'b’}\n",
    "    \n",
    "    my_set.discard(10)\n",
    "    ```"
   ]
  },
  {
   "cell_type": "markdown",
   "metadata": {},
   "source": [
    "##### .pop()\n",
    "- 세트에서 <span style='color:red;'>임의의</span> 요소를 제거하고 <span style='color:red;'>반환</span>\n",
    "\n",
    "    ```py\n",
    "    my_set = {'a', 'b', 'c', 1, 2, 3}\n",
    "    \n",
    "    element = my_set.pop()\n",
    "    print(element)  # 1\n",
    "    print(my_set)  # {2, 3, 'b', 'a', 'c'}\n",
    "    ```"
   ]
  },
  {
   "cell_type": "markdown",
   "metadata": {},
   "source": [
    "##### .update(iterable)\n",
    "- 세트에 다른 iterable 요소를 추가\n",
    "\n",
    "    ```py\n",
    "    my_set = {'a', 'b', 'c', 1, 2, 3}\n",
    "    \n",
    "    my_set.update([1, 4, 5])\n",
    "    print(my_set)  # {1, 2, 3, 'c', 4, 5, 'b', 'a'}\n",
    "    ```"
   ]
  },
  {
   "attachments": {},
   "cell_type": "markdown",
   "metadata": {},
   "source": [
    "##### 실행 해보기"
   ]
  },
  {
   "cell_type": "code",
   "execution_count": null,
   "metadata": {},
   "outputs": [],
   "source": [
    "# 실행 해보기 1\n",
    "my_set = {'a', 'b', 'c', 1, 2, 3}\n",
    "\n",
    "my_set.add(4)\n",
    "print(my_set) \n",
    "                  \n",
    "my_set.add(4)\n",
    "print(my_set)"
   ]
  },
  {
   "cell_type": "code",
   "execution_count": null,
   "metadata": {},
   "outputs": [],
   "source": [
    "# 실행 해보기 2\n",
    "my_set = {'a', 'b', 'c', 1, 2, 3}\n",
    "\n",
    "my_set.clear()\n",
    "print(my_set)"
   ]
  },
  {
   "cell_type": "code",
   "execution_count": null,
   "metadata": {},
   "outputs": [],
   "source": [
    "# 실행 해보기 3\n",
    "my_set = {'a', 'b', 'c', 1, 2, 3}\n",
    "\n",
    "my_set.remove(2)\n",
    "print(my_set) \n",
    "\n",
    "my_set.remove(10)\n",
    "print(my_set) "
   ]
  },
  {
   "cell_type": "code",
   "execution_count": null,
   "metadata": {},
   "outputs": [],
   "source": [
    "# 실행 해보기 4\n",
    "my_set = {1, 2, 3}\n",
    "\n",
    "my_set.discard(2)\n",
    "print(my_set)\n",
    "\n",
    "my_set.discard(10)"
   ]
  },
  {
   "cell_type": "code",
   "execution_count": null,
   "metadata": {},
   "outputs": [],
   "source": [
    "# 실행 해보기 5 \n",
    "my_set = {'a', 'b', 'c', 1, 2, 3}\n",
    "\n",
    "element = my_set.pop()\n",
    "\n",
    "print(element)\n",
    "print(my_set) "
   ]
  },
  {
   "cell_type": "code",
   "execution_count": null,
   "metadata": {},
   "outputs": [],
   "source": [
    "# 실행 해보기 6 \n",
    "my_set = {'a', 'b', 'c', 1, 2, 3}\n",
    "\n",
    "my_set.update([1, 4, 5])\n",
    "print(my_set)"
   ]
  },
  {
   "cell_type": "markdown",
   "metadata": {},
   "source": []
  },
  {
   "attachments": {},
   "cell_type": "markdown",
   "metadata": {},
   "source": [
    "#### 세트의 집합 메서드\n",
    "|              메서드            \t|                                         설명                                       \t|         연산자        \t|\n",
    "|:------------------------------:\t|:----------------------------------------------------------------------------------:\t|:---------------------:\t|\n",
    "|      set1.difference(set2)     \t|        set1에는 들어있지만 set2에는      없는   항목으로 세트를 생성 후 반환       \t|      set1   – set2    \t|\n",
    "|     set1.intersection(set2)    \t|           set1과 set2 모두   들어있는 항목으로      세트를   생성 후 반환          \t|     set1   & set 2    \t|\n",
    "|       set1.issubset(set2)      \t|               set1의 항목이 모두 set2에 들어있으면      True를   반환              \t|     **set1   <= set2**    \t|\n",
    "|      set1.issuperset(set2)     \t|               set1가 set2의   항목을 모두 포함하면      True를   반환              \t|     **set1   >= set2**    \t|\n",
    "|         set1.union(set2)       \t|     set1 또는 set2에(혹은   둘 다) 들어있는      항목으로   세트를 생성 후 반환    \t|     set1   \\| set2    \t|"
   ]
  },
  {
   "cell_type": "code",
   "execution_count": 2,
   "metadata": {},
   "outputs": [
    {
     "name": "stdout",
     "output_type": "stream",
     "text": [
      "{0, 2, 4}\n",
      "{1, 3}\n",
      "False\n",
      "False\n",
      "{0, 1, 2, 3, 4, 5, 7, 9}\n",
      "True\n"
     ]
    }
   ],
   "source": [
    "set1 = {0,1,2,3,4}\n",
    "set2 = {1,3,5,7,9}\n",
    "\n",
    "print(set1.difference(set2))\n",
    "print(set1.intersection(set2))\n",
    "print(set1.issubset(set2))\n",
    "print(set1.issuperset(set2))\n",
    "print(set1.union(set2))\n",
    "\n",
    "set3 = {0,3}\n",
    "print(set1.issuperset(set3))"
   ]
  },
  {
   "attachments": {},
   "cell_type": "markdown",
   "metadata": {},
   "source": [
    "##### 세트의 집합 메서드\n",
    "```py\n",
    "set1 = {0, 1, 2, 3, 4}\n",
    "set2 = {1, 3, 5, 7, 9}\n",
    "\n",
    "print(set1.difference(set2))  # {0, 2, 4}\n",
    "print(set1.intersection(set2))  # {1, 3}\n",
    "print(set1.issubset(set2))  # False\n",
    "print(set1.issuperset(set2))  # False\n",
    "print(set1.union(set2))  # {0, 1, 2, 3, 4, 5, 7, 9}\n",
    "```"
   ]
  },
  {
   "attachments": {},
   "cell_type": "markdown",
   "metadata": {},
   "source": [
    "##### 실행 해보기"
   ]
  },
  {
   "cell_type": "code",
   "execution_count": null,
   "metadata": {},
   "outputs": [],
   "source": [
    "# 실행 해보기 1\n",
    "set1 = {0, 1, 2, 3, 4}\n",
    "set2 = {1, 3, 5, 7, 9}\n",
    "\n",
    "print(set1.difference(set2))  \n",
    "print(set1.intersection(set2))  \n",
    "print(set1.issubset(set2))  \n",
    "print(set1.issuperset(set2))  \n",
    "print(set1.union(set2))  "
   ]
  },
  {
   "attachments": {},
   "cell_type": "markdown",
   "metadata": {},
   "source": [
    "### 딕셔너리 `dictionary`\n",
    "고유한 항목들의 정렬되지 않은 컬렉션 + key,value 형태로 되어있다\n"
   ]
  },
  {
   "attachments": {},
   "cell_type": "markdown",
   "metadata": {},
   "source": [
    "#### 딕셔너리 메서드\n",
    "|            메서드           \t|                                                                                설명                                                                              \t|\n",
    "|:---------------------------:\t|:----------------------------------------------------------------------------------------------------------------------------------------------------------------:\t|\n",
    "|           D.clear()         \t|     딕셔너리 D의   모든 키/값 쌍을 제거                                                                                                                          \t|\n",
    "|           D.get(k)          \t|     키 k에   연결된 값을 반환 (키가 없으면 None을 반환)                                                                                                          \t|\n",
    "|         D.get(k,   v)       \t|     키 k에   연결된 값을 반환하거나 키가 없으면 기본 값으로 v를 반환                                                                                             \t|\n",
    "|           D.keys()          \t|     딕셔너리 D의   키를 모은 객체를 반환                                                                                                                         \t|\n",
    "|          D.values()         \t|     딕셔너리 D의   값을 모은 객체를 반환                                                                                                                         \t|\n",
    "|           D.items()         \t|     딕셔너리 D의   키/값 쌍을 모은 객체를 반환                                                                                                                   \t|\n",
    "|           D.pop(k)          \t|     딕셔너리 D에서   키 k를 제거하고 연결됐던 값을 반환 (없으면   오류)                                                                                          \t|\n",
    "|         D.pop(k,   v)       \t|     딕셔너리 D에서   키 k를 제거하고 연결됐던 값을 반환 (없으면   v를 반환)                                                                                      \t|\n",
    "|        D.setdefault(k)      \t|     딕셔너리 D에서   키 k와 연결된 값을 반환                                                                                                                     \t|\n",
    "|     D.setdefault(k,   v)    \t|     딕셔너리 D에서   키 k와 연결된 값을 반환     k가   D의 키가 아니면 값 v와   연결한 키 k를 D에   추가하고 v를 반환                                            \t|\n",
    "|        D.update(other)      \t|     other 내 각 키에 대해 D에   있는 키면 D에 있는 그 키의 값을 other에 있는 값으로 대체.     other에 있는 각 키에 대해 D에   없는 키면 키/값 쌍을 D에   추가    \t|"
   ]
  },
  {
   "cell_type": "code",
   "execution_count": 4,
   "metadata": {},
   "outputs": [
    {
     "name": "stdout",
     "output_type": "stream",
     "text": [
      "Alice\n",
      "Alice\n",
      "키가 없습니다.\n",
      "{}\n"
     ]
    }
   ],
   "source": [
    "person = {'name':'Alice',\n",
    "          'age':25}\n",
    "\n",
    "print(person['name'])\n",
    "print(person.get('name'))\n",
    "print(person.get('country','키가 없습니다.')) #키 연결된 값 반환,없으면 None or default값 반환. error는 발생안함(기본값 줬기 때문)\n",
    "#dcit[key]로 호출 시 key가 없으면 에러 발생. get은 없어도 에러 발생안함\n",
    "\n",
    "print(person.keys()) #dict_keys(['name','age']) 이건 key의 모임이구나, 대괄호_반복이 가능한 개체\n",
    "for key in person.keys():\n",
    "    print(key)\n",
    "print(person.values()) #dict_values(['Alice',25])\n",
    "for value in person.values():\n",
    "    print(value)\n",
    "print(person.items()) \n",
    "for key,value in person.items():\n",
    "    print(key,value)  \n",
    "\n",
    "print(person.pop('age'))\n",
    "print(person)\n",
    "\n",
    "print(person.pop('country','None')) #이렇게 해야 에러 안나옴.\n",
    "\n",
    "print(person.setdefault('country','KOREA'))# 키 있으면 연결된 값 반환, 없으면 키랑 디폴트값 추가,반환\n",
    "print(person)\n",
    "\n",
    "other_person = {\n",
    "    'name' : \"Jane\",\n",
    "    'gender' : 'Female'\n",
    "}\n",
    "person.update(other_person)\n",
    "print(person)\n",
    "\n",
    "person.update(age = 50, country = 'KOREA') #값 추가 시 유용\n",
    "print(person)\n",
    "\n",
    "person.clear()\n",
    "print(person)"
   ]
  },
  {
   "cell_type": "code",
   "execution_count": null,
   "metadata": {},
   "outputs": [],
   "source": [
    "data = [\n",
    "    {\n",
    "        'name': 'galxy flip',\n",
    "        'company': 'samsung',\n",
    "        'is_collapsible': True,\n",
    "    },\n",
    "    {\n",
    "        'name': 'ipad',\n",
    "        'is_collapsible': False\n",
    "    },\n",
    "    {\n",
    "        'name': 'galxy fold',\n",
    "        'company': 'samsung',\n",
    "        'is_collapsible': True\n",
    "    },\n",
    "    {\n",
    "        'name': 'galxy note',\n",
    "        'company': 'samsung',\n",
    "        'is_collapsible': False\n",
    "    },\n",
    "    {\n",
    "        'name': 'optimus',\n",
    "        'is_collapsible': False\n",
    "    },\n",
    "]\n",
    "\n",
    "key_list = ['name', 'company', 'is_collapsible']\n",
    "\n",
    "# 아래에 코드를 작성하시오.\n",
    "\n",
    "for d in data:\n",
    "    for k in key_list:\n",
    "        if k not in list(d.keys()):\n",
    "            d.setdefault(k,'unknown')\n",
    "            \n",
    "        print(f'{k}은/는 {d[k]}입니다')"
   ]
  },
  {
   "cell_type": "code",
   "execution_count": 6,
   "metadata": {},
   "outputs": [
    {
     "name": "stdout",
     "output_type": "stream",
     "text": [
      "USA\n"
     ]
    }
   ],
   "source": [
    "\n",
    "\n",
    "def add_item_to_dict(dictionary,key,value):\n",
    "    dictionary.setdefault(key,value)\n",
    "    \n",
    "    \n",
    "\n",
    "    return dictionary\n",
    "\n",
    "\n",
    "my_dict = {'name': 'Alice', 'age': 25}\n",
    "result = add_item_to_dict(my_dict, 'country', 'USA')\n",
    "print(result)\n"
   ]
  },
  {
   "attachments": {},
   "cell_type": "markdown",
   "metadata": {},
   "source": [
    "##### .clear()\n",
    "- 딕셔너리 D의 모든 키/값 쌍을 제거\n",
    "\n",
    "    ```py\n",
    "    person = {'name': 'Alice', 'age': 25}\n",
    "    person.clear()\n",
    "    print(person)  # {}\n",
    "    ```"
   ]
  },
  {
   "attachments": {},
   "cell_type": "markdown",
   "metadata": {},
   "source": [
    "##### .get(key[,default])\n",
    "- 키 연결된 값을 반환하거나 키가 없으면 None 혹은 기본 값을 반환\n",
    "\n",
    "    ```py\n",
    "    person = {'name': 'Alice', 'age': 25}\n",
    "\n",
    "    print(person.get('name'))  # Alice\n",
    "    print(person.get('country'))  # None\n",
    "    print(person.get('country', 'Unknown'))  # Unknown\n",
    "    ```"
   ]
  },
  {
   "attachments": {},
   "cell_type": "markdown",
   "metadata": {},
   "source": [
    "##### .keys()\n",
    "- 딕셔너리 키를 모은 객체를 반환\n",
    "\n",
    "    ```python\n",
    "    person = {'name': 'Alice', 'age': 25}\n",
    "    print(person.keys())  # dict_keys(['name', 'age’])\n",
    "\n",
    "    for k in person.keys():\n",
    "        print(k)\n",
    "    \"\"\"\n",
    "    name\n",
    "    age\n",
    "    \"\"\"\n",
    "    ```"
   ]
  },
  {
   "attachments": {},
   "cell_type": "markdown",
   "metadata": {},
   "source": [
    "##### .values()\n",
    "- 딕셔너리 값을 모은 객체를 반환\n",
    "\n",
    "    ```py\n",
    "    person = {'name': 'Alice', 'age': 25}\n",
    "    print(person.keys())  # dict_keys(['name', 'age’])\n",
    "\n",
    "    for v in person.values():\n",
    "        print(v)\n",
    "    \"\"\"\n",
    "    Alice\n",
    "    25\n",
    "    \"\"\"\n",
    "    ```"
   ]
  },
  {
   "attachments": {},
   "cell_type": "markdown",
   "metadata": {},
   "source": [
    "##### .items()\n",
    "- 딕셔너리 키/값 쌍을 모은 객체를 반환\n",
    "\n",
    "    ```python\n",
    "    person = {'name': 'Alice', 'age': 25}\n",
    "    \n",
    "    print(person.items())  # dict_items([('name', 'Alice'), ('age', 25)])\n",
    "    for k, v in person.items():\n",
    "        print(k, v)\n",
    "    \"\"\"\n",
    "    name Alice\n",
    "    age 25\n",
    "    \"\"\"\n",
    "    ```"
   ]
  },
  {
   "attachments": {},
   "cell_type": "markdown",
   "metadata": {},
   "source": [
    "##### .pop(key[,default])\n",
    "- 키를 제거하고 연결됐던 값을 반환 (없으면 에러나 default 를 반환)\n",
    "\n",
    "    ```py\n",
    "    person = {'name': 'Alice', 'age': 25}\n",
    "    \n",
    "    print(person.pop('age'))  # 25\n",
    "    print(person)  # {'name': 'Alice'}\n",
    "    print(person.pop('country', None))  # None\n",
    "    print(person.pop('country'))  # KeyError\n",
    "    ```"
   ]
  },
  {
   "attachments": {},
   "cell_type": "markdown",
   "metadata": {},
   "source": [
    "##### .setdefault(key[,default])\n",
    "- 키와 연결된 값을 반환 <br>\n",
    "키가 없다면 default와 연결한 키를 딕셔너리에 추가하고 default를 반환\n",
    "\n",
    "    ```python\n",
    "    person = {'name': 'Alice', 'age': 25}\n",
    "\n",
    "    print(person.setdefault('country', 'KOREA'))  # KOREA\n",
    "    print(person)  # {'name': 'Alice', 'age': 25, 'country': 'KOREA'}\n",
    "    ```"
   ]
  },
  {
   "attachments": {},
   "cell_type": "markdown",
   "metadata": {},
   "source": [
    "##### .update([other])\n",
    "- other가 제공하는 키/값 쌍으로 딕셔너리를 갱신 <br>\n",
    "기존 키는 덮어씀\n",
    "\n",
    "    ```py\n",
    "    person = {'name': 'Alice', 'age': 25}\n",
    "    other_person = {'name': 'Jane', 'gender': 'Female'}\n",
    "\n",
    "    person.update(other_person)\n",
    "    print(person)  # {'name': 'Jane', 'age': 25, 'gender': 'Female'}\n",
    "\n",
    "    person.update(age=50)\n",
    "    print(person)  # {'name': 'Jane', 'age': 50, 'gender': 'Female'}\n",
    "\n",
    "    person.update(country='KOREA')\n",
    "    print(person)  # {'name': 'Jane', 'age': 50, 'gender': 'Female', 'country': 'KOREA'}\n",
    "    ```\n"
   ]
  },
  {
   "attachments": {},
   "cell_type": "markdown",
   "metadata": {},
   "source": [
    "##### 실행 해보기"
   ]
  },
  {
   "cell_type": "code",
   "execution_count": null,
   "metadata": {},
   "outputs": [],
   "source": [
    "# 실행 해보기 1\n",
    "person = {'name': 'Alice', 'age': 25}\n",
    "person.clear()\n",
    "print(person)"
   ]
  },
  {
   "cell_type": "code",
   "execution_count": null,
   "metadata": {},
   "outputs": [],
   "source": [
    "# 실행 해보기 2\n",
    "person = {'name': 'Alice', 'age': 25}\n",
    "\n",
    "print(person.get('name')) \n",
    "print(person.get('country')) \n",
    "print(person.get('country', 'Unknown')) "
   ]
  },
  {
   "cell_type": "code",
   "execution_count": null,
   "metadata": {},
   "outputs": [],
   "source": [
    "# 실행 해보기 3\n",
    "person = {'name': 'Alice', 'age': 25}\n",
    "print(person.keys())\n",
    "for k in person.keys():\n",
    "    print(k)"
   ]
  },
  {
   "cell_type": "code",
   "execution_count": null,
   "metadata": {},
   "outputs": [],
   "source": [
    "# 실행 해보기 4\n",
    "person = {'name': 'Alice', 'age': 25}\n",
    "print(person.keys()) \n",
    "for v in person.values():\n",
    "    print(v)"
   ]
  },
  {
   "cell_type": "code",
   "execution_count": null,
   "metadata": {},
   "outputs": [],
   "source": [
    "# 실행 해보기 5\n",
    "person = {'name': 'Alice', 'age': 25}\n",
    "    \n",
    "print(person.items())\n",
    "for k, v in person.items():\n",
    "    print(k, v) "
   ]
  },
  {
   "cell_type": "code",
   "execution_count": null,
   "metadata": {},
   "outputs": [],
   "source": [
    "# 실행 해보기 6\n",
    "person = {'name': 'Alice', 'age': 25}\n",
    "    \n",
    "print(person.pop('age'))  \n",
    "print(person) \n",
    "print(person.pop('country', None)) \n",
    "print(person.pop('country')) "
   ]
  },
  {
   "cell_type": "code",
   "execution_count": null,
   "metadata": {},
   "outputs": [],
   "source": [
    "# 실행 해보기 7\n",
    "person = {'name': 'Alice', 'age': 25}\n",
    "print(person.setdefault('country', 'KOREA')) \n",
    "print(person) "
   ]
  },
  {
   "cell_type": "code",
   "execution_count": null,
   "metadata": {},
   "outputs": [],
   "source": [
    "# 실행 해보기 8\n",
    "person = {'name': 'Alice', 'age': 25}\n",
    "other_person = {'name': 'Jane', 'gender': 'Female'}\n",
    "\n",
    "person.update(other_person)\n",
    "print(person)  \n",
    "\n",
    "person.update(age=50)\n",
    "print(person) \n",
    "\n",
    "person.update(country='KOREA')\n",
    "print(person)  "
   ]
  },
  {
   "attachments": {},
   "cell_type": "markdown",
   "metadata": {},
   "source": [
    "## 참고"
   ]
  },
  {
   "attachments": {},
   "cell_type": "markdown",
   "metadata": {},
   "source": [
    "#### 문자열에 포함된 문자들의 유형을 판별하는 메서드\n",
    "- `isdecimal()`\n",
    "    - 문자열이 모두 숫자 문자(0~9)로만 이루어져 있어야 True\n",
    "- `isdigit()`\n",
    "    - isdecimal()과 비슷하지만, 유니코드 숫자도 인식 ('①’ 도 숫자로 인식)\n",
    "- `isnumeric()`\n",
    "    - isdigit()과 유사하지만, 몇 가지 추가적인 유니코드 문자들을 인식 <br>(분수, 지수, 루트 기호도 숫자로 인식)\n",
    "\n"
   ]
  },
  {
   "attachments": {},
   "cell_type": "markdown",
   "metadata": {},
   "source": [
    "#### 문자열에 포함된 문자들의 유형을 판별하는 메서드\n",
    "- `isdecimal()` ⊆ `isdigit()` ⊆ `isnumeric()`\n",
    "\n",
    "|     isdecimal()    \t|     isdigit()    \t|     isnumeric()    \t|                  예시                \t|\n",
    "|:------------------:\t|:----------------:\t|:------------------:\t|:------------------------------------:\t|\n",
    "|         True       \t|        True      \t|         True       \t|       \"038\",   \"੦੩੮\",   \"０３８\"     \t|\n",
    "|        False       \t|        True      \t|         True       \t|          \"⁰³⁸\", \"🄀⒊⒏\", \"⓪③⑧\"         \t|\n",
    "|        False       \t|       False      \t|         True       \t|     \"⅛⅘\", \"ⅠⅢⅧ\", \"⑩⑬㊿\", \"壹貳參\"    \t|\n",
    "|        False       \t|       False      \t|        False       \t|          \"abc\", \"38.0\", \"-38\"        \t|"
   ]
  },
  {
   "cell_type": "code",
   "execution_count": null,
   "metadata": {},
   "outputs": [],
   "source": []
  },
  {
   "cell_type": "markdown",
   "metadata": {},
   "source": [
    "문자열이 string인 이유. 다른 언어에서는 여러 개로 나누어져 있음\n",
    "\n",
    "파이썬 함수는 반드시 반환하는 값이 하나의 객체이다. 두개 이상의 객체를 반환하려하면 튜플로 묶어서 반환\n",
    "함수의 반환값이 임의로 변경되면 안되기 떄문에 튜플로\n",
    "최댓값 최솟값 비교 시 초기값을 지수로.? 배열의 0번째 요소로/ arr[0]\n",
    "\n",
    "리스트의 메서드는 대체로 원본을 변경\n",
    "파이썬은 함수의 리턴값이 반드시 존재한다. (return을 정의안하면 None)\n",
    "와 \n",
    "함수는 반드시 어떤 값을 반환해야 한다 x\n",
    "는 다른 이야기\n",
    "\n",
    "근데 문자열 메서드는 죄다 반환값있음 _ 원본수정이 안되기 떄문"
   ]
  },
  {
   "cell_type": "markdown",
   "metadata": {},
   "source": [
    "## 해시 테이블\n",
    "  - 해시 함수를 사용하여 변환한 값을 index로 삼아 키와 데이터를 저장하는 자료구조\n",
    "    - 데이터를 효율적으로 저장하고 **검색**하기 위해 사용\n",
    "  - 원리 : 키를 해시함수를 통해 해시 값으로 변환하고 이 해시값을 인덱스로 사용하여 데이터를 저장하거나 검색. 검색 개빠름\n",
    "  - 탐색을 하지않고 바로 호출\n",
    "  - 해시: **임의의 크기**를 가진 데이터를 **고정된 크기**의 고유한 값으로 변환하는 것\n",
    "  - 순서가 상관없음_Nonsequence\n",
    "  - 데이터를 고유하게 식별.\n",
    "  - input -> hash function -> output \n",
    "\n",
    "  - 파이썬에서 세트의 요소와 딕셔너리의 키는 해시테이블을 이용하여 중복되지않는 고유한 값을 저장함\n",
    "  - 세트 내의 각 요소는 해시함수를 통해 해시 값으로 변환되고 이 해시 값을 기반으로 해시 테이블에 저장됨. 문자열은 해시값 계속 바뀜\n",
    "  - 정수값은 자체가 해시값.고정. 불필요한 연산안해도됨. 값이 길이가 바뀌지도 않고, 타입도 그대로고, 그대로 써도 문제 발생  x. 해시테이블에 나열된 순서(라기보단 방번호)로 출력. \n",
    "  - pop은 해시테이블에 먼저 있는 순서대로 삭제\n",
    "  - print(hash(1)) #1\n",
    "  - print(hash(1)) #1\n",
    "  - print(hash('a')) #매번\n",
    "  - print(hash('a')) #바뀜\n",
    "\n",
    "  -pop() '임의'라는 의미의 '무작위' <-> random. 해시테이블에 나타나는 순서대로 반환하는것\n",
    "\n",
    "  - hashable \n",
    "    - 해시할 수 있는 객체\n",
    "    - 대부분의 불변형 데이터 타입은 hashable\n",
    "    - tuple은 가변형 데이터를 요소로 가질 수 있기 때문에 x. 값이 변경하기 떄문에 동일한 객체에 대한 해시값이 변경될 가능성이 있음(해시테이블의 무결성 유지 불가) 값이변경되면 같은 객체에 대한 서로 다른 해시 값이 반환될 수 있음(해시 값의 일관성 유지 불가)\n",
    "    - 동일한 값에 대한 일관된 해시 값을 유지할 수 있음\n",
    "\n",
    "    - 필요이유"
   ]
  },
  {
   "cell_type": "markdown",
   "metadata": {},
   "source": []
  },
  {
   "cell_type": "code",
   "execution_count": null,
   "metadata": {},
   "outputs": [],
   "source": [
    "dict = {\n",
    "    'john': '521-1234',\n",
    "    'lisa': '521-8976'\n",
    "\n",
    "}\n",
    "dict1 = [\n",
    "    {'john': '521-1234'},\n",
    "    {'lisa': '521-8976'}\n",
    "]\n",
    "\n",
    "dict.get('lisa')"
   ]
  },
  {
   "cell_type": "code",
   "execution_count": 1,
   "metadata": {},
   "outputs": [
    {
     "ename": "",
     "evalue": "",
     "output_type": "error",
     "traceback": [
      "\u001b[1;31mThe Kernel crashed while executing code in the the current cell or a previous cell. Please review the code in the cell(s) to identify a possible cause of the failure. Click <a href='https://aka.ms/vscodeJupyterKernelCrash'>here</a> for more info. View Jupyter <a href='command:jupyter.viewOutput'>log</a> for further details."
     ]
    }
   ],
   "source": [
    "sentence = str(input())\n",
    "alp = list(map(chr, range(97, 123)))\n",
    "for a in range(len(alp)):\n",
    "    for s in range(len(sentence)):\n",
    "        if sentence[s] == alp[a]:\n",
    "            print(s)\n",
    "        break\n",
    "    print('-1')\n",
    "        "
   ]
  }
 ],
 "metadata": {
  "kernelspec": {
   "display_name": "Python 3.11.5 64-bit",
   "language": "python",
   "name": "python3"
  },
  "language_info": {
   "codemirror_mode": {
    "name": "ipython",
    "version": 3
   },
   "file_extension": ".py",
   "mimetype": "text/x-python",
   "name": "python",
   "nbconvert_exporter": "python",
   "pygments_lexer": "ipython3",
   "version": "3.9.13"
  },
  "orig_nbformat": 4,
  "vscode": {
   "interpreter": {
    "hash": "aee8b7b246df8f9039afb4144a1f6fd8d2ca17a180786b69acc140d282b71a49"
   }
  }
 },
 "nbformat": 4,
 "nbformat_minor": 2
}
