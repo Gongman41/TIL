{
 "cells": [
  {
   "attachments": {},
   "cell_type": "markdown",
   "metadata": {},
   "source": [
    "# Data Types"
   ]
  },
  {
   "attachments": {},
   "cell_type": "markdown",
   "metadata": {},
   "source": [
    "## Data Types\n",
    "### 개요\n",
    "값의 종류와 그 값에 적용 가능한 연산과 동작을 결정하는 속성\n"
   ]
  },
  {
   "attachments": {},
   "cell_type": "markdown",
   "metadata": {},
   "source": [
    "#### 데이터 타입 분류\n",
    "- Numeric Types\n",
    "    - int (정수), float (실수), complex (복소수)\n",
    "- Text Sequence Type\n",
    "    - str (문자열)\n",
    "- Sequence Types\n",
    "    - list, tuple, range\n",
    "- Non-sequence Types\n",
    "    -  set, dict\n",
    "- 기타\n",
    "    - Boolean, None, Functions"
   ]
  },
  {
   "attachments": {},
   "cell_type": "markdown",
   "metadata": {},
   "source": [
    "#### 데이터 타입이 필요한 이유\n",
    "- 값들을 구분하고, 어떻게 다뤄야 하는지를 알 수 있음\n",
    "- 요리 재료마다 특정한 도구가 필요하듯이 각 데이터 타입 값들도 각자에게 적합한 도구를 가짐\n",
    "- 타입을 명시적으로 지정하면 코드를 읽는 사람이 변수의 의도를 더 쉽게 이해할 수 있고, 잘못된 데이터 타입으로 인한 오류를 미리 예방"
   ]
  },
  {
   "attachments": {},
   "cell_type": "markdown",
   "metadata": {},
   "source": [
    "## Numeric Types\n",
    "### int `정수 자료형`\n",
    "정수를 표현하는 자료형"
   ]
  },
  {
   "attachments": {},
   "cell_type": "markdown",
   "metadata": {},
   "source": [
    "#### 진수 표현\n",
    "- 2진수(binary) : 0b\n",
    "- 8진수(octal) : 0o\n",
    "- 16진수(hexadecimal) : 0x\n",
    "\n",
    "```python\n",
    "print(0b10) # 2\n",
    "\n",
    "print(0o30) # 24\n",
    "\n",
    "print(0x10) # 16\n",
    "```"
   ]
  },
  {
   "attachments": {},
   "cell_type": "markdown",
   "metadata": {},
   "source": [
    "#### 실행 해보기"
   ]
  },
  {
   "cell_type": "code",
   "execution_count": 12,
   "metadata": {},
   "outputs": [
    {
     "name": "stdout",
     "output_type": "stream",
     "text": [
      "2\n",
      "24\n",
      "16\n"
     ]
    }
   ],
   "source": [
    "# 실행 해보기 1\n",
    "print(0b10)\n",
    "\n",
    "print(0o30)\n",
    "\n",
    "print(0x10)\n"
   ]
  },
  {
   "attachments": {},
   "cell_type": "markdown",
   "metadata": {},
   "source": [
    "### float `실수 자료형`\n",
    "실수를 표현하는 자료형\n",
    "\n",
    "프로그래밍 언어에서 float는 실수에 대한 <span style='color:red;'>근삿값</span>"
   ]
  },
  {
   "attachments": {},
   "cell_type": "markdown",
   "metadata": {},
   "source": [
    "#### 유한 정밀도\n",
    "- 컴퓨터 메모리 용량이 한정돼 있고 한 숫자에 대해 저장하는 용량이 제한 됨\n",
    "- 0.6666666666666666과 1.6666666666666667은 제한된 양의 메모리에 저장할 수 있는 2/3과 5/3에 가장 가까운 값\n",
    "\n",
    "```python\n",
    "# 0.6666666666666666\n",
    "print(2 / 3)\n",
    "\n",
    "# 1.6666666666666667\n",
    "print(5 / 3)\n",
    "```"
   ]
  },
  {
   "attachments": {},
   "cell_type": "markdown",
   "metadata": {},
   "source": [
    "#### 실수 연산 시 주의사항\n",
    "- 컴퓨터는 2진수를 사용, 사람은 10진법을 사용\n",
    "- 이때 10진수 0.1은 2진수로 표현하면 0.0001100110011001100110... - 같이 무한대로 반복\n",
    "- 무한대 숫자를 그대로 저장할 수 없어서 사람이 사용하는 10진법의 근사값만 표시\n",
    "- 0.1의 경우 3602879701896397 / 2 ** 55 이며 0.1에 가깝지만 정확히 동일하지는 않음\n",
    "- 이런 과정에서 예상치 못한 결과가 나타남\n",
    "- 이런 증상을 <span style='color:red;'>Floating point rounding error</span>라고 함"
   ]
  },
  {
   "attachments": {},
   "cell_type": "markdown",
   "metadata": {},
   "source": [
    "#### 실수 연산 시 해결책\n",
    "- 두 수의 차이가 매우 작은 수보다 작은지를 확인하거나 math 모듈 활용\n",
    "\n",
    "```python\n",
    "a = 3.2 - 3.1 # 0.10000000000000009\n",
    "b = 1.2 - 1.1 # 0.09999999999999987\n",
    "\n",
    "# 1. 임의의 작은 수 활용\n",
    "print(abs(a - b) <= 1e-10) # True\n",
    "\n",
    "# 2. math 모듈 활용\n",
    "import math\n",
    "print(math.isclose(a, b)) # True\n",
    "```"
   ]
  },
  {
   "attachments": {},
   "cell_type": "markdown",
   "metadata": {},
   "source": [
    "#### 지수 표현 방식\n",
    "- e 또는 E를 사용한 지수 표현\n",
    "\n",
    "```python \n",
    "# 314 ∗ 0.01\n",
    "number = 314e-2\n",
    "\n",
    "# float\n",
    "print(type(number))\n",
    "\n",
    "# 3.14\n",
    "print(number)\n",
    "```"
   ]
  },
  {
   "attachments": {},
   "cell_type": "markdown",
   "metadata": {},
   "source": [
    "#### 실행 해보기"
   ]
  },
  {
   "cell_type": "code",
   "execution_count": 13,
   "metadata": {},
   "outputs": [
    {
     "name": "stdout",
     "output_type": "stream",
     "text": [
      "0.6666666666666666\n",
      "1.6666666666666667\n"
     ]
    }
   ],
   "source": [
    "# 실행 해보기 1\n",
    "print(2 / 3)\n",
    "\n",
    "print(5 / 3)\n"
   ]
  },
  {
   "cell_type": "code",
   "execution_count": 14,
   "metadata": {},
   "outputs": [
    {
     "name": "stdout",
     "output_type": "stream",
     "text": [
      "0.10000000000000009\n",
      "0.09999999999999987\n",
      "True\n",
      "True\n"
     ]
    }
   ],
   "source": [
    "# 실행 해보기 2\n",
    "a = 3.2 - 3.1 \n",
    "b = 1.2 - 1.1 \n",
    "\n",
    "print(a)\n",
    "print(b)\n",
    "\n",
    "print(abs(a - b) <= 1e-10) \n",
    " \n",
    "import math\n",
    "print(math.isclose(a, b))\n"
   ]
  },
  {
   "cell_type": "code",
   "execution_count": 15,
   "metadata": {},
   "outputs": [
    {
     "name": "stdout",
     "output_type": "stream",
     "text": [
      "<class 'float'>\n",
      "3.14\n"
     ]
    }
   ],
   "source": [
    "# 실행 해보기 3 \n",
    "number = 314e-2\n",
    " \n",
    "print(type(number))\n",
    " \n",
    "print(number)\n"
   ]
  },
  {
   "attachments": {},
   "cell_type": "markdown",
   "metadata": {},
   "source": [
    "## Sequence Types\n",
    "### Sequence Types\n",
    "여러 개의 값들을 <span style='color:red;'>순서대로 나열</span>하여 저장하는 자료형\n",
    "(str, list, tuple, range)\n",
    "\n",
    "#### Sequence Type 특징\n",
    "1. 순서(Sequence)\n",
    "    - 값들이 순서대로 저장 (정렬 X)\n",
    "2. 인덱싱(Indexing)\n",
    "    - 각 값에 고유한 인덱스(번호)를 가지고 있으며, 인덱스를 사용하여 특정 위치의 값을 선택하거나 수정할 수 있음\n",
    "3. 슬라이싱(Slicing)\n",
    "    - 인덱스 범위를 조절해 부분적인 값을 추출할 수 있음\n",
    "4. 길이(Length)\n",
    "    - len() 함수를 사용하여 저장된 값의 개수(길이)를 구할 수 있음\n",
    "5. 반복(Iteration)\n",
    "    - 반목문을 사용하여 저장된 값들을 반복적으로 처리할 수 있음"
   ]
  },
  {
   "attachments": {},
   "cell_type": "markdown",
   "metadata": {},
   "source": [
    "### str `문자열` \n",
    "문자들의 순서가 있는 변경 불가능한 시퀀스 자료형\n",
    "#### 문자열 표현\n",
    "- 문자열은 단일 문자나 여러 문자의 조합으로 이루어짐 \n",
    "- 작은따옴표(‘) 또는 큰따옴표(\") 감싸서 표현\n",
    "```python\n",
    "# Hello, World!\n",
    "print('Hello, World!') \n",
    "\n",
    "# str\n",
    "print(type('Hello, World!')) \n",
    "```"
   ]
  },
  {
   "attachments": {},
   "cell_type": "markdown",
   "metadata": {},
   "source": [
    "#### 중첩 따옴표\n",
    "- 따옴표 안에 따옴표를 표현할 경우 \n",
    "    - 작은따옴표가 들어 있는 경우는 큰따옴표로 문자열 생성\n",
    "    - 큰따옴표가 들어 있는 경우는 작은따옴표로 문자열 생성\n",
    "```python\n",
    "# 문자열 안에 '작은따옴표'를 사용하려면 큰따옴표로 묶는다.\n",
    "print(\"문자열 안에 '작은따옴표'를 사용하려면 큰따옴표로 묶는다.\")\n",
    "\n",
    "# 문자열 안에 \"큰따옴표\"를 사용하려면 작은 따옴표로 묶는다.\n",
    "print('문자열 안에 \"큰따옴표\"를 사용하려면 작은 따옴표로 묶는다.')\n",
    "```"
   ]
  },
  {
   "attachments": {},
   "cell_type": "markdown",
   "metadata": {},
   "source": [
    "#### Escape sequence\n",
    "- 역슬래시(backslash)뒤에 특정 문자가 와서 특수한 기능을 하는 문자 조합\n",
    "- 파이썬의 일반적인 문법 규칙을 잠시 탈출한다는 의미\n",
    "\n",
    "|     예약   문자    \t|      내용(의미)    \t|\n",
    "|:------------------:\t|:------------------:\t|\n",
    "|          \\n        \t|      줄   바꿈     \t|\n",
    "|          \\t        \t|          탭        \t|\n",
    "|          \\\\        \t|       백슬래시     \t|\n",
    "|          \\’        \t|     작은 따옴표    \t|\n",
    "|          \\\"        \t|     큰   따옴표    \t|"
   ]
  },
  {
   "attachments": {},
   "cell_type": "markdown",
   "metadata": {},
   "source": [
    "##### Escape sequence 예시\n",
    "```python\n",
    "# 철수야 '안녕'\n",
    "print('철수야 \\'안녕\\'')\n",
    "\n",
    "'''\n",
    "이 다음은 엔터 \n",
    "입니다.\n",
    "'''\n",
    "print('이 다음은 엔터\\n입니다.')\n",
    "```"
   ]
  },
  {
   "attachments": {},
   "cell_type": "markdown",
   "metadata": {},
   "source": [
    "#### String Interpolation\n",
    "문자열 내에 변수나 표현식을 삽입하는 방법\n",
    "\n",
    "##### f-string\n",
    "문자열에 f 또는 F 접두어를 붙이고 표현식을 `{expression}`로 작성하여 문자열에 파이썬 표현식의 값을 삽입할 수 있음\n",
    "\n",
    "```python \n",
    "bugs = 'roaches'\n",
    "counts = 13\n",
    "area = 'living room'\n",
    "\n",
    "# Debugging roaches 13 living room\n",
    "print(f'Debugging {bugs} {counts} {area}')\n",
    "```"
   ]
  },
  {
   "attachments": {},
   "cell_type": "markdown",
   "metadata": {},
   "source": [
    "#### 문자열의 시퀀스 특징\n",
    "```python\n",
    "my_str = 'hello'\n",
    "\n",
    "# 인덱싱\n",
    "print(my_str[1])  # e\n",
    "\n",
    "# 슬라이싱\n",
    "print(my_str[2:4])  # ll\n",
    "\n",
    "# 길이\n",
    "print(len(my_str))  # 5\n",
    "```"
   ]
  },
  {
   "attachments": {},
   "cell_type": "markdown",
   "metadata": {},
   "source": [
    "##### 인덱스 `index`\n",
    "시퀀스 내의 값들에 대한 고유한 번호로, 각 값의 위치를 식별하는 데 사용되는 숫자\n",
    "\n",
    "##### index 예시\n",
    "|         \"    \t|      h    \t|      e    \t|      l    \t|      l    \t|      o    \t|     \"    \t|\n",
    "|-------------:\t|:---------:\t|:---------:\t|:---------:\t|:---------:\t|:---------:\t|----------\t|\n",
    "|     index    \t|      0    \t|      1    \t|      2    \t|      3    \t|      4    \t|          \t|\n",
    "|     index    \t|     -5    \t|     -4    \t|     -3    \t|     -2    \t|     -1    \t|          \t|\n"
   ]
  },
  {
   "attachments": {},
   "cell_type": "markdown",
   "metadata": {},
   "source": [
    "\n",
    "##### 슬라이싱 `slicing`\n",
    "시퀀스의 일부분을 선택하여 추출하는 작업\n",
    "\n",
    "-> 시작 인덱스와 끝 인덱스를 지정하여 해당 범위의 값을 포함하는 새로운 시퀀스를 생성\n",
    "\n",
    "##### slicing 예시\n",
    "```python\n",
    "my_str = 'hello'\n",
    "my_str[2:4]\n",
    "```\n",
    "|         \"    \t|      h    \t|      e    \t|      <span style='color:red;'>l</span>    \t|      <span style='color:red;'>l</span>    \t|      o    \t|     \"    \t|\n",
    "|-------------:\t|:---------:\t|:---------:\t|:---------:\t|:---------:\t|:---------:\t|----------\t|\n",
    "|     index    \t|      0    \t|      1    \t|      <span style='color:yellow;'>2</span>    \t|      <span style='color:yellow;'>3</span>    \t|      4    \t|          \t|\n",
    "|     index    \t|     -5    \t|     -4    \t|     -3    \t|     -2    \t|     -1    \t|          \t|\n",
    "\n",
    "\n",
    "```python\n",
    "my_str = 'hello'\n",
    "my_str[:3]\n",
    "```\n",
    "|         \"    \t|      <span style='color:red;'>h</span>    \t|      <span style='color:red;'>e</span>    \t|      <span style='color:red;'>l</span>    \t|      l    \t|      o    \t|     \"    \t|\n",
    "|-------------:\t|:---------:\t|:---------:\t|:---------:\t|:---------:\t|:---------:\t|----------\t|\n",
    "|     index    \t|      <span style='color:yellow;'>0</span>    \t|      <span style='color:yellow;'>1</span>    \t|      <span style='color:yellow;'>2</span>    \t|      3    \t|      4    \t|          \t|\n",
    "|     index    \t|     -5    \t|     -4    \t|     -3    \t|     -2    \t|     -1    \t|          \t|\n",
    "\n",
    "```python\n",
    "my_str = 'hello'\n",
    "my_str[3:]\n",
    "```\n",
    "|         \"    \t|      h    \t|      e    \t|      l    \t|      <span style='color:red;'>l</span>    \t|      <span style='color:red;'>o</span>    \t|     \"    \t|\n",
    "|-------------:\t|:---------:\t|:---------:\t|:---------:\t|:---------:\t|:---------:\t|----------\t|\n",
    "|     index    \t|      0    \t|      1    \t|      2    \t|      <span style='color:yellow;'>3</span>    \t|      <span style='color:yellow;'>4</span>    \t|          \t|\n",
    "|     index    \t|     -5    \t|     -4    \t|     -3    \t|     -2    \t|     -1    \t|          \t|\n",
    "\n",
    "- step을 지정하여 추출\n",
    "```python\n",
    "my_str = 'hello'\n",
    "my_str[0:5:2]\n",
    "```\n",
    "|         \"    \t|      <span style='color:red;'>h</span>    \t|      e    \t|      <span style='color:red;'>l</span>    \t|      l    \t|      <span style='color:red;'>o</span>    \t|     \"    \t|\n",
    "|-------------:\t|:---------:\t|:---------:\t|:---------:\t|:---------:\t|:---------:\t|----------\t|\n",
    "|     index    \t|      <span style='color:yellow;'>0</span>    \t|      1    \t|      <span style='color:yellow;'>2</span>    \t|      3    \t|      <span style='color:yellow;'>4</span>    \t|          \t|\n",
    "|     index    \t|     -5    \t|     -4    \t|     -3    \t|     -2    \t|     -1    \t|          \t|\n",
    "\n",
    "- step이 음수일 경우\n",
    "```python\n",
    "my_str = 'hello'\n",
    "my_str[::-1]\n",
    "```\n",
    "\n",
    "|         \"    \t|      <span style='color:red;'>h</span>    \t|      <span style='color:red;'>e</span>    \t|      <span style='color:red;'>l</span>    \t|      <span style='color:red;'>l</span>    \t|      <span style='color:red;'>o</span>    \t|     \"    \t|\n",
    "|-------------:\t|:---------:\t|:---------:\t|:---------:\t|:---------:\t|:---------:\t|----------\t|\n",
    "|     index    \t|      0    \t|      1    \t|      2    \t|      3    \t|      4    \t|          \t|\n",
    "|     index    \t|     <span style='color:yellow;'>-5</span>    \t|     <span style='color:yellow;'>-4</span>    \t|     <span style='color:yellow;'>-3</span>    \t|     <span style='color:yellow;'>-2</span>    \t|     <span style='color:yellow;'>-1</span>    \t|          \t|"
   ]
  },
  {
   "attachments": {},
   "cell_type": "markdown",
   "metadata": {},
   "source": [
    "#### 문자열은 불변 (변경 불가)\n",
    "```python\n",
    "my_str = 'hello'\n",
    "\n",
    "# TypeError: 'str' object does not support item assignment\n",
    "my_str[1] = 'z'\n",
    "```"
   ]
  },
  {
   "attachments": {},
   "cell_type": "markdown",
   "metadata": {},
   "source": [
    "#### 실행 해보기"
   ]
  },
  {
   "cell_type": "code",
   "execution_count": 16,
   "metadata": {},
   "outputs": [
    {
     "name": "stdout",
     "output_type": "stream",
     "text": [
      "Hello, World!\n",
      "<class 'str'>\n"
     ]
    }
   ],
   "source": [
    "# 실행 해보기 1\n",
    "print('Hello, World!') \n",
    " \n",
    "print(type('Hello, World!')) \n"
   ]
  },
  {
   "cell_type": "code",
   "execution_count": 17,
   "metadata": {},
   "outputs": [
    {
     "name": "stdout",
     "output_type": "stream",
     "text": [
      "문자열 안에 '작은따옴표'를 사용하려면 큰따옴표로 묶는다.\n",
      "문자열 안에 \"큰따옴표\"를 사용하려면 작은 따옴표로 묶는다.\n"
     ]
    }
   ],
   "source": [
    "# 실행 해보기 2\n",
    "print(\"문자열 안에 '작은따옴표'를 사용하려면 큰따옴표로 묶는다.\")\n",
    "\n",
    "print('문자열 안에 \"큰따옴표\"를 사용하려면 작은 따옴표로 묶는다.')\n"
   ]
  },
  {
   "cell_type": "code",
   "execution_count": 18,
   "metadata": {},
   "outputs": [
    {
     "name": "stdout",
     "output_type": "stream",
     "text": [
      "철수야 '안녕'\n",
      "이 다음은 엔터\n",
      "입니다.\n"
     ]
    }
   ],
   "source": [
    "# 실행 해보기 3\n",
    "print('철수야 \\'안녕\\'')\n",
    " \n",
    "print('이 다음은 엔터\\n입니다.')\n"
   ]
  },
  {
   "cell_type": "code",
   "execution_count": 19,
   "metadata": {},
   "outputs": [
    {
     "name": "stdout",
     "output_type": "stream",
     "text": [
      "Debugging roaches 13 living room\n"
     ]
    }
   ],
   "source": [
    "# 실행 해보기 4\n",
    "bugs = 'roaches'\n",
    "counts = 13\n",
    "area = 'living room'\n",
    " \n",
    "print(f'Debugging {bugs} {counts} {area}')\n"
   ]
  },
  {
   "cell_type": "code",
   "execution_count": 20,
   "metadata": {},
   "outputs": [
    {
     "name": "stdout",
     "output_type": "stream",
     "text": [
      "e\n",
      "ll\n",
      "5\n"
     ]
    }
   ],
   "source": [
    "# 실행 해보기 5\n",
    "my_str = 'hello'\n",
    "\n",
    "# 인덱싱\n",
    "print(my_str[1]) \n",
    "\n",
    "# 슬라이싱\n",
    "print(my_str[2:4])\n",
    "\n",
    "# 길이\n",
    "print(len(my_str))\n"
   ]
  },
  {
   "cell_type": "code",
   "execution_count": 21,
   "metadata": {},
   "outputs": [
    {
     "name": "stdout",
     "output_type": "stream",
     "text": [
      "ll\n",
      "hel\n",
      "lo\n",
      "hlo\n",
      "olleh\n"
     ]
    }
   ],
   "source": [
    "# 실행 해보기 6\n",
    "my_str = 'hello'\n",
    "\n",
    "print(my_str[2:4])\n",
    "print(my_str[:3])\n",
    "print(my_str[3:])\n",
    "print(my_str[0:5:2])\n",
    "print(my_str[::-1])\n"
   ]
  },
  {
   "cell_type": "code",
   "execution_count": 22,
   "metadata": {},
   "outputs": [
    {
     "ename": "TypeError",
     "evalue": "'str' object does not support item assignment",
     "output_type": "error",
     "traceback": [
      "\u001b[1;31m---------------------------------------------------------------------------\u001b[0m",
      "\u001b[1;31mTypeError\u001b[0m                                 Traceback (most recent call last)",
      "Cell \u001b[1;32mIn[22], line 3\u001b[0m\n\u001b[0;32m      1\u001b[0m \u001b[39m# 실행 해보기 7\u001b[39;00m\n\u001b[0;32m      2\u001b[0m my_str \u001b[39m=\u001b[39m \u001b[39m'\u001b[39m\u001b[39mhello\u001b[39m\u001b[39m'\u001b[39m\n\u001b[1;32m----> 3\u001b[0m my_str[\u001b[39m1\u001b[39;49m] \u001b[39m=\u001b[39m \u001b[39m'\u001b[39m\u001b[39mz\u001b[39m\u001b[39m'\u001b[39m\n",
      "\u001b[1;31mTypeError\u001b[0m: 'str' object does not support item assignment"
     ]
    }
   ],
   "source": [
    "# 실행 해보기 7\n",
    "my_str = 'hello'\n",
    "my_str[1] = 'z'\n"
   ]
  },
  {
   "attachments": {},
   "cell_type": "markdown",
   "metadata": {},
   "source": [
    "\n",
    "### list `리스트`\n",
    "여러 개의 값을 순서대로 저장하는 변경 가능한 시퀀스 자료형\n",
    "없는 인덱스 호출 주의\n",
    "\n",
    "#### 리스트 표현\n",
    "- 0개 이상의 객체를 포함하며 데이터 목록을 저장\n",
    "- 대괄호(`[]`)로 표기\n",
    "- 데이터는 어떤 자료형도 저장할 수 있음\n",
    "```python\n",
    "my_list_1 = []\n",
    "\n",
    "my_list_2 = [1, 'a', 3, 'b', 5]\n",
    "\n",
    "my_list_3 = [1, 2, 3, 'Python', ['hello', 'world', '!!!']]\n",
    "```\n"
   ]
  },
  {
   "attachments": {},
   "cell_type": "markdown",
   "metadata": {},
   "source": [
    "#### 리스트의 시퀀스 특징\n",
    "```python\n",
    "my_list = [1, 'a', 3, 'b', 5]\n",
    "\n",
    "# 인덱싱\n",
    "print(my_list[1])  # a\n",
    "\n",
    "# 슬라이싱\n",
    "print(my_list[2:4])  # [3, 'b']\n",
    "print(my_list[:3])  # [1, 'a', 3]\n",
    "print(my_list[3:])  # ['b', 5]\n",
    "print(my_list[0:5:2])  # [1, 3, 5]\n",
    "print(my_list[::-1])  # [5, 'b', 3, 'a', 1]\n",
    "\n",
    "# 길이\n",
    "print(len(my_list))  # 5\n",
    "```"
   ]
  },
  {
   "attachments": {},
   "cell_type": "markdown",
   "metadata": {},
   "source": [
    "#### 중첩된 리스트 접근\n",
    "출력 값 예상해보기\n",
    "\n",
    "```python\n",
    "my_list = [1, 2, 3, 'Python', ['hello', 'world', '!!!']]\n",
    "\n",
    "print(len(my_list))  \n",
    "print(my_list[4][-1])  \n",
    "print(my_list[-1][1][0])  \n",
    "```\n"
   ]
  },
  {
   "attachments": {},
   "cell_type": "markdown",
   "metadata": {},
   "source": [
    "#### 리스트는 가변 (변경 가능)\n",
    "```python\n",
    "my_list = [1, 2, 3]\n",
    "my_list[0] = 100\n",
    "\n",
    "print(my_list)  # [100, 2, 3]\n",
    "```"
   ]
  },
  {
   "attachments": {},
   "cell_type": "markdown",
   "metadata": {},
   "source": [
    "#### 실행 해보기"
   ]
  },
  {
   "cell_type": "code",
   "execution_count": null,
   "metadata": {},
   "outputs": [],
   "source": [
    "# 실행 해보기 1\n",
    "my_list = [1, 'a', 3, 'b', 5]\n",
    "\n",
    "# 인덱싱\n",
    "print(my_list[1]) \n",
    "\n",
    "# 슬라이싱\n",
    "print(my_list[2:4]) \n",
    "print(my_list[:3]) \n",
    "print(my_list[3:]) \n",
    "print(my_list[0:5:2]) \n",
    "print(my_list[::-1]) \n",
    "\n",
    "# 길이\n",
    "print(len(my_list)) \n"
   ]
  },
  {
   "cell_type": "code",
   "execution_count": 6,
   "metadata": {},
   "outputs": [
    {
     "name": "stdout",
     "output_type": "stream",
     "text": [
      "life is short  need \"python\"\n"
     ]
    }
   ],
   "source": [
    "password = \"In the bustling city, where life is a constant race against time, uoy often find yourself wondering if there's a shortcut to success. The vibrant lights of the cityscape illuminate the night, casting shadows on the short-lived dreams of those who seek fortune. As you navigate through the crowded streets, you realize the deen for guidance, like a compass pointing python. You need direction in this chaotic journey called life.\"\n",
    "# 아래에 코드를 작성하시오.\n",
    "first_char = password[28:35]\n",
    "second_word = password[113:118]\n",
    "third_word = password[66:69:-1]#위와 차이점은? 고르고 돌리냐. 애초에 반대로 고르냐\n",
    "fourth_word = password[322:326:][::-1]#일단 이렇게 작성하는 게 확실한듯\n",
    "fifth_word = password[365:371]\n",
    "print(f'{first_char} {second_word} {third_word} {fourth_word} \"{fifth_word}\"')\n"
   ]
  },
  {
   "cell_type": "code",
   "execution_count": null,
   "metadata": {},
   "outputs": [],
   "source": [
    "# 실행 해보기 2\n",
    "my_list = [1, 2, 3, 'Python', ['hello', 'world', '!!!']]\n",
    "\n",
    "print(len(my_list))\n",
    "print(my_list[4][-1])\n",
    "print(my_list[-1][1][0])\n"
   ]
  },
  {
   "cell_type": "code",
   "execution_count": null,
   "metadata": {},
   "outputs": [],
   "source": [
    "# 실행 해보기 3\n",
    "my_list = [1, 2, 3]\n",
    "my_list[0] = 100\n",
    "\n",
    "print(my_list)\n"
   ]
  },
  {
   "attachments": {},
   "cell_type": "markdown",
   "metadata": {},
   "source": [
    "### tuple `튜플`\n",
    "여러 개의 값을 순서대로 저장하는 변경 불가능한 시퀀스 자료형\n"
   ]
  },
  {
   "attachments": {},
   "cell_type": "markdown",
   "metadata": {},
   "source": [
    "#### 튜플 표현\n",
    "- 0개 이상의 객체를 포함하며 데이터 목록을 저장\n",
    "- 소괄호(`()`)로 표기\n",
    "- 데이터는 어떤 자료형도 저장할 수 있음\n",
    "\n",
    "    ```python\n",
    "    my_tuple_1 = ()\n",
    "\n",
    "    my_tuple_2 = (1,) #1 뒤에 쉼표 쓰는 건 어째서..?_ 빈 공간을 넣지않으면 그냥 정수 1이 되버림\n",
    "\n",
    "    my_tuple_3 = (1, 'a', 3, 'b', 5)\n",
    "    ```"
   ]
  },
  {
   "attachments": {},
   "cell_type": "markdown",
   "metadata": {},
   "source": [
    "#### 튜플의 시퀀스 특징\n",
    "```python\n",
    "my_tuple = (1, 'a', 3, 'b', 5)\n",
    "\n",
    "# 인덱싱\n",
    "print(my_tuple[1])  # a\n",
    "\n",
    "# 슬라이싱\n",
    "print(my_tuple[2:4])  # (3, 'b')\n",
    "print(my_tuple[:3])  # (1, 'a', 3)\n",
    "print(my_tuple[3:])  # ('b', 5)\n",
    "print(my_tuple[0:5:2])  # (1, 3, 5)\n",
    "print(my_tuple[::-1])  # (5, 'b', 3, 'a', 1)\n",
    "\n",
    "# 길이\n",
    "print(len(my_tuple))  # 5\n",
    "```"
   ]
  },
  {
   "attachments": {},
   "cell_type": "markdown",
   "metadata": {},
   "source": [
    "#### 튜플은 불변(변경 불가)\n",
    "```python\n",
    "my_tuple = (1, 'a', 3, 'b', 5)\n",
    "\n",
    "# TypeError: 'tuple' object does not support item assignment\n",
    "my_tuple[1] = 'z'\n",
    "```"
   ]
  },
  {
   "attachments": {},
   "cell_type": "markdown",
   "metadata": {},
   "source": [
    "#### 튜플은 어디에 쓰일까?\n",
    "- 튜플의 불변 특성을 사용한 안전하게 여러 개의 값을 전달, 그룹화, 다중 할당 등 <span style='color:red;'>개발자가 직접 사용하기 보다 ‘파이썬 내부 동작’에서 주로 사용됨</span>\n",
    "\n",
    "    ```python\n",
    "    x, y = (10, 20)\n",
    "\n",
    "    print(x)  # 10\n",
    "    print(y)  # 20\n",
    "\n",
    "    # 파이썬은 쉼표를 튜플 생성자로 사용하니 괄호는 생략 가능\n",
    "    x, y = 10, 20\n",
    "    ```"
   ]
  },
  {
   "attachments": {},
   "cell_type": "markdown",
   "metadata": {},
   "source": [
    "#### 실행 해보기"
   ]
  },
  {
   "cell_type": "code",
   "execution_count": null,
   "metadata": {},
   "outputs": [],
   "source": [
    "# 실행 해보기 1\n",
    "my_tuple = (1, 'a', 3, 'b', 5)\n",
    "\n",
    "# 인덱싱\n",
    "print(my_tuple[1])  \n",
    "\n",
    "# 슬라이싱\n",
    "print(my_tuple[2:4]) \n",
    "print(my_tuple[:3]) \n",
    "print(my_tuple[3:]) \n",
    "print(my_tuple[0:5:2]) \n",
    "print(my_tuple[::-1]) \n",
    "\n",
    "# 길이\n",
    "print(len(my_tuple)) \n"
   ]
  },
  {
   "cell_type": "code",
   "execution_count": null,
   "metadata": {},
   "outputs": [],
   "source": [
    "# 실행 해보기 2\n",
    "my_tuple = (1, 'a', 3, 'b', 5)\n",
    " \n",
    "my_tuple[1] = 'z'\n"
   ]
  },
  {
   "attachments": {},
   "cell_type": "markdown",
   "metadata": {},
   "source": [
    "### range\n",
    "연속된 정수 시퀀스를 생성하는 변경 불가능한 자료형"
   ]
  },
  {
   "attachments": {},
   "cell_type": "markdown",
   "metadata": {},
   "source": [
    "#### range 표현 1\n",
    "- range(n)\n",
    "    - 0부터 n-1까지의 숫자의 시퀀스\n",
    "- range(n, m) \n",
    "    - n부터 m-1까지의 숫자 시퀀스\n",
    "\n",
    "    ```python\n",
    "    my_range_1 = range(5)\n",
    "    my_range_2 = range(1, 10)\n",
    "\n",
    "    print(my_range_1)  # range(0, 5). 출력값 유의\n",
    "    print(my_range_2)  # range(1, 10)\n",
    "    ```"
   ]
  },
  {
   "attachments": {},
   "cell_type": "markdown",
   "metadata": {},
   "source": [
    "#### ragne 표현 2\n",
    "- 주료 반복문과 함께 사용 예정\n",
    "\n",
    "    ```python\n",
    "    my_range_1 = range(5)\n",
    "    my_range_2 = range(1, 10)\n",
    "\n",
    "    print(my_range_1)  # range(0, 5)\n",
    "    print(my_range_2)  # range(1, 10)\n",
    "\n",
    "    # 리스트로 형 변환 시 데이터 확인 가능\n",
    "\n",
    "    print(list(my_range_1))  # [0, 1, 2, 3, 4]. 리스트로 형변환 필수\n",
    "    print(list(my_range_2))  # [1, 2, 3, 4, 5, 6, 7, 8, 9]\n",
    "    ```"
   ]
  },
  {
   "attachments": {},
   "cell_type": "markdown",
   "metadata": {},
   "source": [
    "#### 실행 해보기"
   ]
  },
  {
   "cell_type": "code",
   "execution_count": 1,
   "metadata": {},
   "outputs": [
    {
     "name": "stdout",
     "output_type": "stream",
     "text": [
      "range(0, 5)\n",
      "range(1, 10)\n"
     ]
    }
   ],
   "source": [
    "# 실행 해보기 1\n",
    "my_range_1 = range(5)\n",
    "my_range_2 = range(1, 10)\n",
    "\n",
    "print(my_range_1)\n",
    "print(my_range_2)\n"
   ]
  },
  {
   "cell_type": "code",
   "execution_count": 37,
   "metadata": {},
   "outputs": [
    {
     "name": "stdout",
     "output_type": "stream",
     "text": [
      "range(0, 5)\n",
      "range(1, 10)\n",
      "[0, 1, 2, 3, 4]\n",
      "[1, 2, 3, 4, 5, 6, 7, 8, 9]\n"
     ]
    }
   ],
   "source": [
    "# 실행 해보기 2\n",
    "my_range_1 = range(5)\n",
    "my_range_2 = range(1, 10)\n",
    "\n",
    "print(my_range_1)\n",
    "print(my_range_2)\n",
    "\n",
    "# 리스트로 형 변환 시 데이터 확인 가능\n",
    "\n",
    "print(list(my_range_1))\n",
    "print(list(my_range_2))\n"
   ]
  },
  {
   "attachments": {},
   "cell_type": "markdown",
   "metadata": {},
   "source": [
    "## Non-sequence Types"
   ]
  },
  {
   "attachments": {},
   "cell_type": "markdown",
   "metadata": {},
   "source": [
    "### dict `딕셔너리`\n",
    "key - value 쌍으로 이루어진 순서와 중복이 없는 변경 가능한 자료형. 중복 시 뒤에 선언된 값으로 수정"
   ]
  },
  {
   "attachments": {},
   "cell_type": "markdown",
   "metadata": {},
   "source": [
    "#### 딕셔너리 표현\n",
    "- key는 변경 불가능한 자료형만 사용 가능 (str, int, float, tuple, range …)\n",
    "- value는 모든 자료형 사용 가능\n",
    "- 중괄호(`{}`)로 표기\n",
    "- 리스트와 딕셔너리 혼용 시 호출 주의. 리스트면 [index], 딕셔너리면 [key]로 자유롭게\n",
    "\n",
    "    ```python\n",
    "    my_dict_1 = {}\n",
    "    my_dict_2 = {'key': 'value'}\n",
    "    my_dict_3 = {'apple': 12, 'list': [1, 2, 3]}\n",
    "\n",
    "    print(my_dict_1)  # {} 출력값 유의\n",
    "    print(my_dict_2)  # {'key': 'value'}\n",
    "    print(my_dict_3)  # {'apple': 12, 'list': [1, 2, 3]}\n",
    "    ```"
   ]
  },
  {
   "cell_type": "code",
   "execution_count": 11,
   "metadata": {},
   "outputs": [
    {
     "name": "stdout",
     "output_type": "stream",
     "text": [
      "김시습 : ['금오신화', '이생규장전', '만복자서포기']\n",
      "허균 : ['홍길동전', '장생전', '도문대작']\n",
      "남영로 : ['옥루몽', '옥련몽']\n",
      "작자 미상 : ['장화홍련전', '가락국 신화', '온달 설화']\n",
      "임제 : ['수성지', '백호집', '원생몽유록']\n"
     ]
    }
   ],
   "source": [
    "information = dict() #이렇게도 생성 가능하구나\n",
    "authors = ['김시습', '허균', '남영로', '작자 미상', '임제', '박지원']\n",
    "books = [\n",
    "    ['장화홍련전', '가락국 신화', '온달 설화'],\n",
    "    ['금오신화', '이생규장전', '만복자서포기'],\n",
    "    ['수성지', '백호집', '원생몽유록'],\n",
    "    ['홍길동전', '장생전', '도문대작'],\n",
    "    ['옥루몽', '옥련몽'],\n",
    "]\n",
    "\n",
    "information[authors[0]] = books[1]\n",
    "information[authors[1]] = books[3]\n",
    "information[authors[2]] = books[4]\n",
    "information[authors[3]] = books[0]\n",
    "information[authors[4]] = books[2]\n",
    "\n",
    "\n",
    "print(f'{authors[0]} : {information[authors[0]]}')\n",
    "print(f'{authors[1]} : {information[authors[1]]}')\n",
    "print(f'{authors[2]} : {information[authors[2]]}')\n",
    "print(f'{authors[3]} : {information[authors[3]]}')\n",
    "print(f'{authors[4]} : {information[authors[4]]}')\n",
    "\n"
   ]
  },
  {
   "cell_type": "code",
   "execution_count": 33,
   "metadata": {},
   "outputs": [
    {
     "name": "stdout",
     "output_type": "stream",
     "text": [
      "catalog와 backup_catalog를 비교한 결과\n",
      "True\n",
      "backup_catalog : \n",
      "[['시간의 틈', '반짝임의 어둠', '망각의 경계'], ['연기의 수수께끼', '장면의 고백', '드라마의 그림자'], ['황금의 칼날', '비열한 간신', '무명의 영웅'], ['성공을 향한 한 걸음', '내 삶의 변화', '목표 달성의 비밀']]\n",
      "\n",
      "catalog : \n",
      "[['시간의 틈', '반짝임의 어둠', '망각의 경계'], ['연기의 수수께끼', '장면의 고백', '드라마의 그림자'], ['황금의 칼날', '비열한 간신', '무명의 영웅'], ['성공을 향한 한 걸음', '내 삶의 변화', '목표 달성의 비밀']]\n"
     ]
    }
   ],
   "source": [
    "# import copy\n",
    "\n",
    "# catalog = [\n",
    "#     ['시간의 틈', '반짝임의 어둠', '망각의 경계'],\n",
    "#     ['연기의 수수께끼', '장면의 고백', '드라마의 그림자'],\n",
    "#     ['황금의 칼날', '비열한 간신', '무명의 영웅'],\n",
    "#     ['성공의 열쇠', '내면의 변화', '목표의 달성'],\n",
    "# ]\n",
    "\n",
    "# backup_catalog = copy.deepcopy(catalog)\n",
    "\n",
    "# catalog[3][0:3] = ['성공을 향한 한 걸음', '내 삶의 변화', '목표 달성의 비밀']\n",
    "\n",
    "# print('catalog와 backup_catalog를 비교한 결과')\n",
    "# print(backup_catalog == catalog)\n",
    "# print('backup_catalog : ')\n",
    "# print(backup_catalog)\n",
    "# print()\n",
    "# print('catalog : ')\n",
    "# print(catalog)\n",
    "\n",
    "catalog = [\n",
    "    ['시간의 틈', '반짝임의 어둠', '망각의 경계'],\n",
    "    ['연기의 수수께끼', '장면의 고백', '드라마의 그림자'],\n",
    "    ['황금의 칼날', '비열한 간신', '무명의 영웅'],\n",
    "    ['성공의 열쇠', '내면의 변화', '목표의 달성']\n",
    "]\n",
    "\n",
    "backup_catalog = []\n",
    "for i in range(len(catalog)):\n",
    "    backup_catalog.append(catalog[i])\n",
    "    #직접 할당은 안됨. 왜? 빈 리스트는 다음 index값이 없다. 하나를 참조해도 다음을 불러올 수가 없어\n",
    "    #인덱스값이 다 있으면 할당 가능. 리스트 통째로 하는 건 가능.결국 append()사용\n",
    "    #지피티는 copy()를 써야 복사가 된다고 하는데 이 경우에는 리스트를 참조를 해도 리스트에 대한 주소를 바꾸면 되니까\n",
    "    #괜찮은 거 같은데. \n",
    "\n",
    "\n",
    "\n",
    "catalog[3]= ['성공을 향한 한 걸음', '내 삶의 변화', '목표 달성의 비밀']\n",
    "# catalog[3][0:3]= ['성공을 향한 한 걸음', '내 삶의 변화', '목표 달성의 비밀'] 이렇게 하면 원본 변경\n",
    "\n",
    "\n",
    "print('catalog와 backup_catalog를 비교한 결과')\n",
    "print(backup_catalog == catalog)\n",
    "print('backup_catalog : ')\n",
    "print(backup_catalog)\n",
    "print()\n",
    "print('catalog : ')\n",
    "print(catalog)\n"
   ]
  },
  {
   "attachments": {},
   "cell_type": "markdown",
   "metadata": {},
   "source": [
    "#### 딕셔너리 사용\n",
    "- key를 통해 value에 접근\n",
    "\n",
    "    ```python\n",
    "    my_dict = {'apple': 12, 'list': [1, 2, 3]}  \n",
    "\n",
    "    print(my_dict['apple'])  # 12 대괄호로 호출 유의. 리스트는 인덱스,딕셔너리는 key. 별 차이 없다\n",
    "    print(my_dict['list'])  # [1, 2, 3]\n",
    "\n",
    "    # 값 변경\n",
    "    my_dict['apple'] = 100\n",
    "    print(my_dict)  # {'apple': 100, 'list': [1, 2, 3]}\n",
    "    ```"
   ]
  },
  {
   "cell_type": "code",
   "execution_count": 36,
   "metadata": {},
   "outputs": [
    {
     "name": "stdout",
     "output_type": "stream",
     "text": [
      "18\n",
      "['0, 1', '0, 2', '0, 3'] 리스트는 3개 만큼 요소를 가지고 있습니다.\n",
      "['1, 0', '1, 1', '1, 2', '1, 3'] 리스트는 4개 만큼 요소를 가지고 있습니다.\n",
      "['3, 0', '3, 1'] 리스트는 2개 만큼 요소를 가지고 있습니다.\n",
      "['4, 0', '4, 1', '4, 2'] 리스트는 3개 만큼 요소를 가지고 있습니다.\n",
      "['5, 0'] 리스트는 1개 만큼 요소를 가지고 있습니다.\n",
      "matrix의 0, 0 번째 요소의 값은 0, 1 입니다.\n",
      "matrix의 0, 1 번째 요소의 값은 0, 2 입니다.\n",
      "matrix의 0, 2 번째 요소의 값은 0, 3 입니다.\n",
      "matrix의 1, 0 번째 요소의 값은 1, 0 입니다.\n",
      "matrix의 1, 1 번째 요소의 값은 1, 1 입니다.\n",
      "matrix의 1, 2 번째 요소의 값은 1, 2 입니다.\n",
      "matrix의 1, 3 번째 요소의 값은 1, 3 입니다.\n",
      "matrix의 2, 0 번째 요소의 값은 2, 0 입니다.\n",
      "matrix의 2, 1 번째 요소의 값은 2, 1 입니다.\n",
      "matrix의 2, 2 번째 요소의 값은 2, 2 입니다.\n",
      "matrix의 2, 3 번째 요소의 값은 2, 3 입니다.\n",
      "matrix의 2, 4 번째 요소의 값은 2, 4 입니다.\n",
      "matrix의 3, 0 번째 요소의 값은 3, 0 입니다.\n",
      "matrix의 3, 1 번째 요소의 값은 3, 1 입니다.\n",
      "matrix의 4, 0 번째 요소의 값은 4, 0 입니다.\n",
      "matrix의 4, 1 번째 요소의 값은 4, 1 입니다.\n",
      "matrix의 4, 2 번째 요소의 값은 4, 2 입니다.\n",
      "matrix의 5, 0 번째 요소의 값은 5, 0 입니다.\n"
     ]
    }
   ],
   "source": [
    "matrix = [\n",
    "        ['0, 1', '0, 2', '0, 3'], \n",
    "        ['1, 0', '1, 1', '1, 2', '1, 3'], \n",
    "        ['2, 0', '2, 1', '2, 2', '2, 3', '2, 4'], \n",
    "        ['3, 0', '3, 1'], \n",
    "        ['4, 0', '4, 1', '4, 2'], \n",
    "        ['5, 0']\n",
    "    ]\n",
    "# 아래애 코드를 작성하시오.\n",
    "matrix_len = 0\n",
    "n = 0\n",
    "for i in matrix:\n",
    "    for j in i:\n",
    "        matrix_len += 1\n",
    "    n += 1\n",
    "print(matrix_len)\n",
    "\n",
    "\n",
    "for i in matrix:\n",
    "    temporary_len = 0\n",
    "    for k in i:\n",
    "        temporary_len += 1\n",
    "    if temporary_len <= 4:\n",
    "        print(f'{i} 리스트는 {temporary_len}개 만큼 요소를 가지고 있습니다.' )\n",
    "    \n",
    "\n",
    "\n",
    "for x in range(len(matrix)):\n",
    "\n",
    "    for y in range (len(matrix[x])):\n",
    "        print(f'matrix의 {x}, {y} 번째 요소의 값은 {matrix[x][y]} 입니다.')\n",
    "        \n"
   ]
  },
  {
   "attachments": {},
   "cell_type": "markdown",
   "metadata": {},
   "source": [
    "#### 실행 해보기"
   ]
  },
  {
   "cell_type": "code",
   "execution_count": null,
   "metadata": {},
   "outputs": [],
   "source": [
    "# 실행 해보기 1\n",
    "my_dict_1 = {}\n",
    "my_dict_2 = {'key': 'value'}\n",
    "my_dict_3 = {'apple': 12, 'list': [1, 2, 3]}\n",
    "\n",
    "print(my_dict_1)\n",
    "print(my_dict_2)\n",
    "print(my_dict_3)\n"
   ]
  },
  {
   "cell_type": "code",
   "execution_count": null,
   "metadata": {},
   "outputs": [],
   "source": [
    "# 실행 해보기 2\n",
    "my_dict = {'apple': 12, 'list': [1, 2, 3]}\n",
    "\n",
    "print(my_dict['apple'])\n",
    "print(my_dict['list']) \n",
    "\n",
    "# 값 변경\n",
    "my_dict['apple'] = 100\n",
    "print(my_dict)\n"
   ]
  },
  {
   "attachments": {},
   "cell_type": "markdown",
   "metadata": {},
   "source": [
    "### set `세트`\n",
    "순서와 중복이 없는 변경 가능한 자료형\n"
   ]
  },
  {
   "attachments": {},
   "cell_type": "markdown",
   "metadata": {},
   "source": [
    "#### 세트 표현\n",
    "- 수학에서의 집합과 동일한 연산 처리 가능\n",
    "- 중괄호(`{}`)로 표기\n",
    "\n",
    "    ```python\n",
    "    my_set_1 = set() #빈 딕셔너리 생성과 겹치기 때문에 set()함수 사용\n",
    "    my_set_2 = {1, 2, 3}\n",
    "    my_set_3 = {1, 1, 1}\n",
    "\n",
    "    print(my_set_1)  # set()\n",
    "    print(my_set_2)  # {1, 2, 3}\n",
    "    print(my_set_3)  # {1}\n",
    "    ```"
   ]
  },
  {
   "attachments": {},
   "cell_type": "markdown",
   "metadata": {},
   "source": [
    "#### 세트의 집합 연산\n",
    "```python\n",
    "my_set_1 = {1, 2, 3}\n",
    "my_set_2 = {3, 6, 9}\n",
    "\n",
    "# 합집합\n",
    "print(my_set_1 | my_set_2)  # {1, 2, 3, 6, 9}\n",
    "\n",
    "# 차집합\n",
    "print(my_set_1 - my_set_2)  # {1, 2}\n",
    "\n",
    "# 교집합\n",
    "print(my_set_1 & my_set_2)  # {3}\n",
    "```\n"
   ]
  },
  {
   "attachments": {},
   "cell_type": "markdown",
   "metadata": {},
   "source": [
    "#### 실행 해보기"
   ]
  },
  {
   "cell_type": "code",
   "execution_count": null,
   "metadata": {},
   "outputs": [],
   "source": [
    "# 실행 해보기 1\n",
    "my_set_1 = set()\n",
    "my_set_2 = {1, 2, 3}\n",
    "my_set_3 = {1, 1, 1}\n",
    "\n",
    "print(my_set_1)\n",
    "print(my_set_2)\n",
    "print(my_set_3)\n"
   ]
  },
  {
   "cell_type": "code",
   "execution_count": null,
   "metadata": {},
   "outputs": [],
   "source": [
    "# 실행 해보기 2\n",
    "my_set_1 = {1, 2, 3}\n",
    "my_set_2 = {3, 6, 9}\n",
    "\n",
    "# 합집합\n",
    "print(my_set_1 | my_set_2)\n",
    "\n",
    "# 차집합\n",
    "print(my_set_1 - my_set_2)\n",
    "\n",
    "# 교집합\n",
    "print(my_set_1 & my_set_2)\n"
   ]
  },
  {
   "cell_type": "code",
   "execution_count": null,
   "metadata": {},
   "outputs": [],
   "source": [
    "user_data = [\n",
    "    {\n",
    "        'blood_group': 'AB',\n",
    "        'company': 'Stone Inc',\n",
    "        'mail': 'ian17@yahoo.com',\n",
    "        'name': 'Kathryn Jenkins',\n",
    "        'website': [\n",
    "            'https://www.boyd-herrera.com/',\n",
    "            'https://watson.com/',\n",
    "            'http://www.mitchell.com/',\n",
    "            'http://irwin-cline.biz/',\n",
    "        ],\n",
    "    },\n",
    "    {\n",
    "        'blood_group': 'AB+',\n",
    "        'company': 'Fleming Ltd',\n",
    "        'mail': 'patricianelson@yahoo.com',\n",
    "        'name': 'Angel Williamson',\n",
    "        'website': [\n",
    "            'https://wilson-johnson.com/',\n",
    "            'https://santiago-hammond.com/',\n",
    "            'https://morales.com/',\n",
    "            'https://fry-fleming.com/',\n",
    "        ],\n",
    "    },\n",
    "    {\n",
    "        'blood_group': 'A+',\n",
    "        'company': 'Scott PLC',\n",
    "        'mail': 'lisajones@gmail.com',\n",
    "        'name': 'Stephanie Herman MD',\n",
    "        'website': [\n",
    "            'https://www.boyer-stevens.org/',\n",
    "            'http://www.johnson.com/',\n",
    "        ],\n",
    "    },\n",
    "    {\n",
    "        'blood_group': 'AB-',\n",
    "        'company': 'Warren-Stewart',\n",
    "        'mail': 'allisonjennifer@gmail.com',\n",
    "        'name': 'Jon Martinez',\n",
    "        'website': ['https://www.berg.com/'],\n",
    "    },\n",
    "    {\n",
    "        'blood_group': 'AB+',\n",
    "        'company': 'Fisher Inc',\n",
    "        'mail': 'mross@yahoo.com',\n",
    "        'name': 'Justin Brown',\n",
    "        'website': [\n",
    "            'https://www.gray.com/',\n",
    "            'https://jones.com/',\n",
    "            'http://williams.biz/',\n",
    "            'https://hammond.net/',\n",
    "        ],\n",
    "    },\n",
    "    {\n",
    "        'blood_group': 'B-',\n",
    "        'company': 'Pearson Group',\n",
    "        'mail': 'gravesbarbara@hotmail.com',\n",
    "        'name': 'Bobby Patterson',\n",
    "        'website': ['https://www.cunningham.biz/', 'https://johnson.com/'],\n",
    "    },\n",
    "    {\n",
    "        'blood_group': 'AB-',\n",
    "        'company': 'White, Andrade and Howard',\n",
    "        'mail': 'mcole@gmail.com',\n",
    "        'name': 'Michelle Strickland',\n",
    "        'website': ['http://www.rose-gomez.com/', 'https://reilly.com/'],\n",
    "    },\n",
    "    {\n",
    "        'blood_group': 'AB-',\n",
    "        'company': 'Brown-Young',\n",
    "        'mail': 'tmorales@hotmail.com',\n",
    "        'name': 'Stephanie Moore',\n",
    "        'website': ['https://schmidt.com/'],\n",
    "    },\n",
    "    {\n",
    "        'blood_group': 'AB+',\n",
    "        'company': 'Brooks PLC',\n",
    "        'mail': 'wellsmatthew@hotmail.com',\n",
    "        'name': 'Dr. David Johnson',\n",
    "        'website': [\n",
    "            'http://ford-dean.com/',\n",
    "            'http://www.petersen.com/',\n",
    "            'https://thompson-cooley.info/',\n",
    "            'http://ryan-gay.com/',\n",
    "        ],\n",
    "    },\n",
    "    {\n",
    "        'blood_group': 'A-',\n",
    "        'company': 'Stewart Group',\n",
    "        'mail': 'sean37@hotmail.com',\n",
    "        'name': 'Veronica Webb',\n",
    "        'website': ['http://www.holmes.info/', 'http://www.morris.biz/'],\n",
    "    },\n",
    "    {\n",
    "        'blood_group': 'AB+',\n",
    "        'company': 'Cabrera, Perry and Harris',\n",
    "        'mail': 'bgonzales@yahoo.com',\n",
    "        'name': 'Lisa Wilcox',\n",
    "        'website': ['https://www.small.com/', 'http://martin-petersen.com/'],\n",
    "    },\n",
    "    {\n",
    "        'blood_group': 'B+',\n",
    "        'company': 'Thomas, Lozano and Lopez',\n",
    "        'mail': 'bperry@yahoo.com',\n",
    "        'name': 'Brian Simmons',\n",
    "        'website': [\n",
    "            'http://reid.com/',\n",
    "            'http://www.roman-neal.biz/',\n",
    "            'https://www.hoover.org/',\n",
    "            'https://www.lynn.com/',\n",
    "        ],\n",
    "    },\n",
    "    {\n",
    "        'blood_group': 'O+',\n",
    "        'company': 'Baker-Leach',\n",
    "        'mail': 'johnlucas@yahoo.com',\n",
    "        'name': 'Carlos Robinson',\n",
    "        'website': ['https://martin.com/', 'http://montgomery-cline.com/'],\n",
    "    },\n",
    "    {\n",
    "        'blood_group': 'AB-',\n",
    "        'company': 'Higgins, Higgins and Garcia',\n",
    "        'mail': 'chris66@gmail.com',\n",
    "        'name': 'Gabriel Collins',\n",
    "        'website': ['https://www.cole-pugh.com/'],\n",
    "    },\n",
    "    {\n",
    "        'blood_group': 'AB-',\n",
    "        'company': 'Tanner, Wheeler and Weaver',\n",
    "        'mail': 'leonardtammy@gmail.com',\n",
    "        'name': 'Christopher Cook',\n",
    "        'website': [\n",
    "            'https://www.myers-reynolds.com/',\n",
    "            'https://dunlap-rogers.com/',\n",
    "            'https://luna.net/',\n",
    "            'http://smith-miller.com/',\n",
    "        ],\n",
    "    },\n",
    "    {\n",
    "        'blood_group': 'A-',\n",
    "        'company': 'Schaefer-Hunter',\n",
    "        'mail': 'nsummers@gmail.com',\n",
    "        'name': 'Daniel Monroe',\n",
    "        'website': [\n",
    "            'https://cook.net/',\n",
    "            'http://carpenter.com/',\n",
    "            'http://morris-terrell.com/',\n",
    "        ],\n",
    "    },\n",
    "    {\n",
    "        'blood_group': 'B+',\n",
    "        'company': 'Stephens Group',\n",
    "        'mail': 'rolson@gmail.com',\n",
    "        'name': 'Molly Parks',\n",
    "        'website': [\n",
    "            'https://wright-vincent.biz/',\n",
    "            'http://www.cruz.com/',\n",
    "            'http://olson.org/',\n",
    "            'http://gomez.com/',\n",
    "        ],\n",
    "    },\n",
    "    {\n",
    "        'blood_group': 'O-',\n",
    "        'company': 'Fitzgerald, Costa and Hobbs',\n",
    "        'mail': 'jennifervang@hotmail.com',\n",
    "        'name': 'Jill Patterson',\n",
    "        'website': [\n",
    "            'https://www.brewer.com/',\n",
    "            'https://malone-murray.info/',\n",
    "            'http://evans.com/',\n",
    "            'https://ortiz.com/',\n",
    "        ],\n",
    "    },\n",
    "    {\n",
    "        'blood_group': 'A-',\n",
    "        'company': 'Frazier Ltd',\n",
    "        'mail': 'vsolis@hotmail.com',\n",
    "        'name': 'Marie May',\n",
    "        'website': [\n",
    "            'http://pratt.info/',\n",
    "            'http://www.ortega.com/',\n",
    "            'http://www.smith.net/',\n",
    "            'https://nichols.biz/',\n",
    "        ],\n",
    "    },\n",
    "    {\n",
    "        'blood_group': 'O+',\n",
    "        'company': 'Rodriguez and Sons',\n",
    "        'mail': 'michael09@yahoo.com',\n",
    "        'name': 'Julia Gonzalez',\n",
    "        'website': [\n",
    "            'https://www.cantrell.com/',\n",
    "            'https://www.smith.net/',\n",
    "            'http://delgado.com/',\n",
    "            'http://stevens.com/',\n",
    "        ],\n",
    "    },\n",
    "    {\n",
    "        'blood_group': 'AB-',\n",
    "        'company': 'Brown-Arnold',\n",
    "        'mail': 'christopher79@hotmail.com',\n",
    "        'name': 'David Garza',\n",
    "        'website': ['https://price.net/'],\n",
    "    },\n",
    "    {\n",
    "        'blood_group': 'A+',\n",
    "        'company': 'Butler-Hernandez',\n",
    "        'mail': 'angiechoi@yahoo.com',\n",
    "        'name': 'Leslie Kemp',\n",
    "        'website': ['http://www.martin-thompson.org/', 'http://martin.org/'],\n",
    "    },\n",
    "    {\n",
    "        'blood_group': 'A-',\n",
    "        'company': 'Schneider-Hensley',\n",
    "        'mail': 'cesarsantos@hotmail.com',\n",
    "        'name': 'Brandon Peterson',\n",
    "        'website': [\n",
    "            'https://www.owens-gay.com/',\n",
    "            'https://www.santiago.org/',\n",
    "            'https://www.singleton.com/',\n",
    "        ],\n",
    "    },\n",
    "    {\n",
    "        'blood_group': 'O-',\n",
    "        'company': 'Hunter, Alvarado and Stewart',\n",
    "        'mail': 'thomas16@gmail.com',\n",
    "        'name': 'Matthew Stanley',\n",
    "        'website': ['https://nelson.com/'],\n",
    "    },\n",
    "    {\n",
    "        'blood_group': 'A+',\n",
    "        'company': 'Elliott, Mullins and Michael',\n",
    "        'mail': 'smithedward@hotmail.com',\n",
    "        'name': 'Robert Brown',\n",
    "        'website': [\n",
    "            'http://montgomery-rogers.biz/',\n",
    "            'http://www.williams-nixon.com/',\n",
    "        ],\n",
    "    },\n",
    "    {\n",
    "        'blood_group': 'AB+',\n",
    "        'company': 'Velasquez-Garcia',\n",
    "        'mail': 'samanthawilson@yahoo.com',\n",
    "        'name': 'Stephanie Cohen',\n",
    "        'website': ['http://jackson-harris.com/'],\n",
    "    },\n",
    "    {\n",
    "        'blood_group': 'A+',\n",
    "        'company': 'Mccoy-Hopkins',\n",
    "        'mail': 'lli@yahoo.com',\n",
    "        'name': 'Michael Clark',\n",
    "        'website': [\n",
    "            'https://www.harding.info/',\n",
    "            'https://www.jones.biz/',\n",
    "            'http://knight-adkins.org/',\n",
    "            'http://www.alvarado-mendoza.org/',\n",
    "        ],\n",
    "    },\n",
    "    {\n",
    "        'blood_group': 'O+',\n",
    "        'company': 'Kerr Ltd',\n",
    "        'mail': 'georgebrittany@yahoo.com',\n",
    "        'name': 'Brandon White',\n",
    "        'website': [\n",
    "            'https://flowers-parker.info/',\n",
    "            'http://oliver-rice.info/',\n",
    "        ],\n",
    "    },\n",
    "    {\n",
    "        'blood_group': 'AB-',\n",
    "        'company': 'Villarreal, Wood and Smith',\n",
    "        'mail': 'denise73@yahoo.com',\n",
    "        'name': 'Kevin Blevins',\n",
    "        'website': [\n",
    "            'http://www.ramirez.info/',\n",
    "            'https://mckay.net/',\n",
    "            'http://duran.com/',\n",
    "        ],\n",
    "    },\n",
    "    {\n",
    "        'blood_group': 'O+',\n",
    "        'company': 'Jenkins-Garcia',\n",
    "        'mail': 'kwoodward@hotmail.com',\n",
    "        'name': 'Michelle Dixon',\n",
    "        'website': [\n",
    "            'http://www.taylor.com/',\n",
    "            'https://bates-trujillo.org/',\n",
    "            'https://www.thomas-boyer.org/',\n",
    "        ],\n",
    "    },\n",
    "]\n",
    "\n",
    "blood_types = ['A-', 'A+', 'B-', 'B+', 'O-', 'O+', 'AB-', 'AB+']\n",
    "black_list = [\n",
    "    'Jenkins-Garcia',\n",
    "    'Stephens Group',\n",
    "    'White, Andrade and Howard',\n",
    "    'Warren-Stewart',\n",
    "]\n",
    "\n",
    "false_data = []\n",
    "user_list = []\n",
    "false_user_list = 0\n",
    "def create_user(list):\n",
    "    global false_user_list\n",
    "    for i in range(len(list)):\n",
    "        if is_validation(list[i]) == True:\n",
    "            user_list.append(list[i])\n",
    "        else:\n",
    "            false_user_list += 1\n",
    "            if is_validation(list[i]) == 'blocked':\n",
    "                pass\n",
    "            else:\n",
    "                list[i][is_validation(list[i])[1]] = None\n",
    "                user_list.append(list[i])\n",
    "    \n",
    "    \n",
    "                \n",
    "        \n",
    "\n",
    "def is_validation(dict):\n",
    "    false_data = []\n",
    "    if dict['company'] in black_list:\n",
    "        return 'blocked'\n",
    "    if dict['blood_group'] not in blood_types:\n",
    "        false_data.append('blood_group')\n",
    "        \n",
    "    if '@' not in dict['mail']:\n",
    "        false_data.append(dict['mail'])\n",
    "        \n",
    "    if 2 > len(dict['name']) or len(dict['name']) > 30:\n",
    "        false_data.append(dict['mail'])\n",
    "        \n",
    "    if 0 == len(dict['website']):\n",
    "        false_data.append(dict['mail'])\n",
    "    \n",
    "    if len(false_data) == 0:\n",
    "        return True\n",
    "    else:\n",
    "        if len(false_data) == 1:\n",
    "            return (False,false_data[0])\n",
    "        return (False,false_data)\n",
    "    \n",
    "        \n",
    "create_user(user_data)\n",
    "print(f\"'잘못된 데이터로 구성된 유저의 수는 {false_user_list} 입니다.'\")\n",
    "for user in user_list:\n",
    "        print(user)\n",
    "\n",
    "\n"
   ]
  },
  {
   "attachments": {},
   "cell_type": "markdown",
   "metadata": {},
   "source": [
    "## Other Types\n",
    "### None\n",
    "파이썬에서 ‘값이 없음’을 표현하는 자료형\n",
    "#### None 표현\n",
    "```python\n",
    "variable = None\n",
    "\n",
    "print(variable)  # None\n",
    "```"
   ]
  },
  {
   "attachments": {},
   "cell_type": "markdown",
   "metadata": {},
   "source": [
    "### Boolean\n",
    "참(True)과 거짓(False)을 표현하는 자료형\n",
    "\n",
    "#### 불리언 표현\n",
    "- 비교 / 논리 연산의 평가 결과로 사용됨\n",
    "- 주로 조건 / 반복문과 함께 사용\n",
    "\n",
    "    ```python\n",
    "    bool_1 = True\n",
    "    bool_2 = False\n",
    "\n",
    "    print(bool_1)  # True\n",
    "    print(bool_2)  # False\n",
    "    print(3 > 1)  # True\n",
    "    print('3' != 3)  # True\n",
    "    ```"
   ]
  },
  {
   "attachments": {},
   "cell_type": "markdown",
   "metadata": {},
   "source": [
    "#### 실행 해보기"
   ]
  },
  {
   "cell_type": "code",
   "execution_count": null,
   "metadata": {},
   "outputs": [],
   "source": [
    "# 실행 해보기 1\n",
    "variable = None\n",
    "\n",
    "print(variable)\n"
   ]
  },
  {
   "cell_type": "code",
   "execution_count": 2,
   "metadata": {},
   "outputs": [
    {
     "name": "stdout",
     "output_type": "stream",
     "text": [
      "True\n",
      "False\n",
      "True\n",
      "False\n"
     ]
    }
   ],
   "source": [
    "# 실행 해보기 2\n",
    "bool_1 = True\n",
    "bool_2 = False\n",
    "\n",
    "print(bool_1)\n",
    "print(bool_2)\n",
    "print(3 > 1) \n",
    "print('3' != 3) #문자열\n"
   ]
  },
  {
   "attachments": {},
   "cell_type": "markdown",
   "metadata": {},
   "source": [
    "## Collection\n",
    "### Collection\n",
    "여러 개의 항목 또는 요소를 담는 자료 구조\n",
    "str, list, tuple, set, dict\n"
   ]
  },
  {
   "attachments": {},
   "cell_type": "markdown",
   "metadata": {},
   "source": [
    "#### 컬렉션 정리\n",
    "|     컬렉션    \t|     변경 가능 여부    \t|     순서 여부    \t|          \t|\n",
    "|:-------------:\t|:---------------------:\t|:----------------:\t|:--------:\t|\n",
    "|       str     \t|            X          \t|         O        \t|  시퀀스  \t|\n",
    "|      list     \t|            O          \t|         O        \t|  시퀀스  \t|\n",
    "|      tuple    \t|            X          \t|         O        \t|  시퀀스  \t|\n",
    "|       set     \t|            O          \t|         X        \t| 비시퀀스 \t|\n",
    "|      dict     \t|            O          \t|         X        \t| 비시퀀스 \t|"
   ]
  },
  {
   "attachments": {},
   "cell_type": "markdown",
   "metadata": {},
   "source": [
    "#### 불변과 가변의 차이 (1/2)\n",
    "```python\n",
    "my_str = 'hello'\n",
    "# TypeError: 'str' object does not support item assignment\n",
    "my_str[0] = 'z'\n",
    "\n",
    "my_list = [1, 2, 3]\n",
    "my_list[0] = 100\n",
    "# [100, 2, 3]\n",
    "print(my_list)\n",
    "```"
   ]
  },
  {
   "attachments": {},
   "cell_type": "markdown",
   "metadata": {},
   "source": [
    "#### 불변과 가변의 차이 (2/2)\n",
    "![image](https://github.com/ragu6963/TIL/assets/32388270/b6dca7db-4a13-4e75-843b-cbc8badf3691)\n"
   ]
  }
 ],
 "metadata": {
  "kernelspec": {
   "display_name": "Python 3.11.5 64-bit",
   "language": "python",
   "name": "python3"
  },
  "language_info": {
   "codemirror_mode": {
    "name": "ipython",
    "version": 3
   },
   "file_extension": ".py",
   "mimetype": "text/x-python",
   "name": "python",
   "nbconvert_exporter": "python",
   "pygments_lexer": "ipython3",
   "version": "3.11.5"
  },
  "orig_nbformat": 4,
  "vscode": {
   "interpreter": {
    "hash": "aee8b7b246df8f9039afb4144a1f6fd8d2ca17a180786b69acc140d282b71a49"
   }
  }
 },
 "nbformat": 4,
 "nbformat_minor": 2
}
