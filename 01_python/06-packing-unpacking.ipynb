{
 "cells": [
  {
   "attachments": {},
   "cell_type": "markdown",
   "metadata": {},
   "source": [
    "# Packing & Unpacking"
   ]
  },
  {
   "attachments": {},
   "cell_type": "markdown",
   "metadata": {},
   "source": [
    "## Packing & Unpacking"
   ]
  },
  {
   "attachments": {},
   "cell_type": "markdown",
   "metadata": {},
   "source": [
    "### Packing `패킹`\n",
    "여러 개의 값을 하나의 변수에 묶어서 담는 것"
   ]
  },
  {
   "attachments": {},
   "cell_type": "markdown",
   "metadata": {},
   "source": [
    "#### 패킹 예시\n",
    "- 변수에 담긴 값들은 튜플(tuple) 형태로 묶임 (소괄호 생략)\n",
    "\n",
    "    ```python\n",
    "    packed_values = 1, 2, 3, 4, 5\n",
    "    print(packed_values)  # (1, 2, 3, 4, 5)\n",
    "    ```"
   ]
  },
  {
   "attachments": {},
   "cell_type": "markdown",
   "metadata": {},
   "source": [
    "#### ‘*’을 활용한 패킹\n",
    "- `*b`는 남은 요소들을 리스트로 패킹하여 할당. *b먼저 ㅇㅇ\n",
    "\n",
    "    ```python\n",
    "    numbers = [1, 2, 3, 4, 5]\n",
    "    a, *b, c = numbers\n",
    "    \n",
    "    print(a) # 1\n",
    "    print(b) # [2, 3, 4]\n",
    "    print(c) # 5\n",
    "    ```\n",
    "- print 함수에 임의의 가변 인자를 작성할 수 있었던 이유\n",
    "\n",
    "    ```python\n",
    "    print('hello') # hello\n",
    "    \n",
    "    print('you', 'need', 'python') # you need python\n",
    "    ```\n",
    "\n",
    "    ![image](https://github.com/ragu6963/TIL/assets/32388270/05db04bd-d01c-4f4c-a193-854e59385d67)\n"
   ]
  },
  {
   "attachments": {},
   "cell_type": "markdown",
   "metadata": {},
   "source": [
    "#### 실행 해보기"
   ]
  },
  {
   "cell_type": "code",
   "execution_count": null,
   "metadata": {},
   "outputs": [],
   "source": [
    "# 실행 해보기 1\n",
    "packed_values = 1, 2, 3, 4, 5\n",
    "print(packed_values) "
   ]
  },
  {
   "cell_type": "code",
   "execution_count": null,
   "metadata": {},
   "outputs": [],
   "source": [
    "# 실행 해보기 2\n",
    "numbers = [1, 2, 3, 4, 5]\n",
    "a, *b, c = numbers\n",
    "    \n",
    "print(a)\n",
    "print(b)\n",
    "print(c)"
   ]
  },
  {
   "cell_type": "code",
   "execution_count": null,
   "metadata": {},
   "outputs": [],
   "source": [
    "# 실행 해보기 3\n",
    "print('hello')\n",
    "print('you', 'need', 'python')"
   ]
  },
  {
   "attachments": {},
   "cell_type": "markdown",
   "metadata": {},
   "source": [
    "### Unpacking `언패킹`\n",
    "패킹된 변수의 값을 개별적인 변수로 분리하여 할당하는 것\n"
   ]
  },
  {
   "attachments": {},
   "cell_type": "markdown",
   "metadata": {},
   "source": [
    "#### 언패킹 예시\n",
    "- 튜플이나 리스트 등의 객체의 요소들을 개별 변수에 할당\n",
    "    \n",
    "    ```python\n",
    "    packed_values = 1, 2, 3, 4, 5\n",
    "    a, b, c, d, e = packed_values\n",
    "    print(a, b, c, d, e)  # 1 2 3 4 5\n",
    "    ```"
   ]
  },
  {
   "attachments": {},
   "cell_type": "markdown",
   "metadata": {},
   "source": [
    "#### ‘*’을 활용한 언패킹\n",
    "- `*` 는 리스트의 요소를 언패킹\n",
    "\n",
    "    ```python\n",
    "    names = ['alice', 'jane', 'peter']\n",
    "    print(*names)  # alice jane peter\n",
    "    ```"
   ]
  },
  {
   "attachments": {},
   "cell_type": "markdown",
   "metadata": {},
   "source": [
    "#### ‘**’을 활용한 언패킹\n",
    "- `**` 는 딕셔너리의 키-값 쌍을 함수의 키워드 인자로 언패킹\n",
    "    \n",
    "    ```python\n",
    "    def my_function(x, y, z):\n",
    "        print(x, y, z)\n",
    "\n",
    "\n",
    "    my_dict = {'x': 1, 'y': 2, 'z': 3}\n",
    "    my_function(**my_dict)  # 1 2 3 값들만 리턴\n",
    "    ```\n",
    "':'를 '='로 바꾸는 느낌이 아니라 그냥 값들만 나오는 거"
   ]
  },
  {
   "cell_type": "code",
   "execution_count": 4,
   "metadata": {},
   "outputs": [
    {
     "name": "stdout",
     "output_type": "stream",
     "text": [
      "김시습님 환영합니다!\n",
      "허균님 환영합니다!\n",
      "남영로님 환영합니다!\n",
      "임제님 환영합니다!\n",
      "박지원님 환영합니다!\n",
      "남은 책의 수 : 98\n",
      "김시습님이 2권의 책을 대여하였습니다.\n",
      "남은 책의 수 : 97\n",
      "허균님이 1권의 책을 대여하였습니다.\n",
      "남은 책의 수 : 92\n",
      "남영로님이 5권의 책을 대여하였습니다.\n",
      "남은 책의 수 : 89\n",
      "임제님이 3권의 책을 대여하였습니다.\n",
      "남은 책의 수 : 83\n",
      "박지원님이 6권의 책을 대여하였습니다.\n"
     ]
    }
   ],
   "source": [
    "number_of_people = 0\n",
    "many_user = []\n",
    "number_of_book = 100\n",
    "info=[]\n",
    "\n",
    "\n",
    "name = ['김시습', '허균', '남영로', '임제', '박지원']\n",
    "age = [20, 16, 52, 36, 60]\n",
    "address = ['서울', '강릉', '조선', '나주', '한성부']\n",
    "\n",
    "def increase_user(name,age,address):\n",
    "    global number_of_people\n",
    "    number_of_people += 1\n",
    "    print(f'{name}님 환영합니다!')\n",
    "    return create_user(name,age,address)\n",
    "\n",
    "\n",
    "\n",
    "def create_user(name,age,address):\n",
    "    user_info = {'name':name,'age':age,'address':address}\n",
    "    return user_info\n",
    "\n",
    "\n",
    "\n",
    "for i in range(len(name)):\n",
    "    many_user.append(increase_user(name[i],age[i],address[i]))\n",
    "#info = list(map(lambda x: {'name': x['name'], 'age': x['age']}, many_user))\n",
    "#리스트 내에 각 인덱스의 딕셔너리 값의 key와 값 추출하기. 이건 리스트를 통쨰로 할당하는 거라 ㄱㅊ\n",
    "for x in many_user:\n",
    "    info.append({'name':x['name'],'age':x['age']})\n",
    "#특정 키의 값을 할당해서 딕셔너리를 만들고 이걸 리스트의 요소로 넣기\n",
    "    \n",
    "\n",
    "def rental_book(info):\n",
    "\n",
    "    decrease_book(info['age']//10)\n",
    "    print(f'남은 책의 수 : {number_of_book}')\n",
    "    print(f\"{info['name']}님이 {info['age']//10}권의 책을 대여하였습니다.\")\n",
    "    \n",
    "def decrease_book(x):\n",
    "    global number_of_book \n",
    "    number_of_book -= x\n",
    "\n",
    "for j in range(len(name)):\n",
    "    rental_book(info[j])\n"
   ]
  },
  {
   "attachments": {},
   "cell_type": "markdown",
   "metadata": {},
   "source": [
    "#### *, ** 패킹 / 언패킹 연산자 정리\n",
    "- ‘*’\n",
    "    - 패킹 연산자로 사용될 때, 여러 개의 인자를 하나의 튜플로 묶는 역할\n",
    "    - 언패킹 연산자로 사용될 때, 시퀀스나 반복 가능한 객체를 각각의 요소로 <br>언패킹하여 함수의 인자로 전달\n",
    "- ‘**’\n",
    "    - 언패킹 연산자로 사용될 때, **딕셔너리의 키-값 쌍을 키워드 인자**로 <br>언패킹하여 함수의 인자로 전달하는 역할\n",
    "\n"
   ]
  },
  {
   "attachments": {},
   "cell_type": "markdown",
   "metadata": {},
   "source": [
    "#### 실행 해보기"
   ]
  },
  {
   "cell_type": "code",
   "execution_count": null,
   "metadata": {},
   "outputs": [],
   "source": [
    "# 실행 해보기 1\n",
    "packed_values = 1, 2, 3, 4, 5\n",
    "a, b, c, d, e = packed_values\n",
    "print(a, b, c, d, e)"
   ]
  },
  {
   "cell_type": "code",
   "execution_count": null,
   "metadata": {},
   "outputs": [],
   "source": [
    "# 실행 해보기 2\n",
    "names = ['alice', 'jane', 'peter']\n",
    "print(*names)"
   ]
  },
  {
   "cell_type": "code",
   "execution_count": null,
   "metadata": {},
   "outputs": [],
   "source": [
    "# 실행 해보기 3\n",
    "def my_function(x, y, z):\n",
    "    print(x, y, z)\n",
    "    \n",
    "\n",
    "my_dict = {'x': 1, 'y': 2, 'z': 3}\n",
    "my_function(**my_dict) "
   ]
  }
 ],
 "metadata": {
  "kernelspec": {
   "display_name": "Python 3.11.5 64-bit",
   "language": "python",
   "name": "python3"
  },
  "language_info": {
   "codemirror_mode": {
    "name": "ipython",
    "version": 3
   },
   "file_extension": ".py",
   "mimetype": "text/x-python",
   "name": "python",
   "nbconvert_exporter": "python",
   "pygments_lexer": "ipython3",
   "version": "3.11.5"
  },
  "orig_nbformat": 4,
  "vscode": {
   "interpreter": {
    "hash": "aee8b7b246df8f9039afb4144a1f6fd8d2ca17a180786b69acc140d282b71a49"
   }
  }
 },
 "nbformat": 4,
 "nbformat_minor": 2
}
